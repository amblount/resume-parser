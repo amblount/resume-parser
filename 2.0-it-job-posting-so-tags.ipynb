{
 "cells": [
  {
   "cell_type": "code",
   "execution_count": 46,
   "metadata": {},
   "outputs": [],
   "source": [
    "import pandas as pd\n",
    "import so_utils"
   ]
  },
  {
   "cell_type": "markdown",
   "metadata": {},
   "source": [
    "# Load Job Postings"
   ]
  },
  {
   "cell_type": "code",
   "execution_count": 48,
   "metadata": {},
   "outputs": [
    {
     "data": {
      "text/html": [
       "<div>\n",
       "<style scoped>\n",
       "    .dataframe tbody tr th:only-of-type {\n",
       "        vertical-align: middle;\n",
       "    }\n",
       "\n",
       "    .dataframe tbody tr th {\n",
       "        vertical-align: top;\n",
       "    }\n",
       "\n",
       "    .dataframe thead th {\n",
       "        text-align: right;\n",
       "    }\n",
       "</style>\n",
       "<table border=\"1\" class=\"dataframe\">\n",
       "  <thead>\n",
       "    <tr style=\"text-align: right;\">\n",
       "      <th></th>\n",
       "      <th>job_title</th>\n",
       "      <th>company</th>\n",
       "      <th>location</th>\n",
       "      <th>description</th>\n",
       "      <th>date_posted</th>\n",
       "    </tr>\n",
       "  </thead>\n",
       "  <tbody>\n",
       "    <tr>\n",
       "      <td>0</td>\n",
       "      <td>Lead Software Engineer</td>\n",
       "      <td>Simon &amp; Schuster</td>\n",
       "      <td>New York, NY</td>\n",
       "      <td>&lt;p&gt;Simon &amp;amp; Schuster is seeking a Lead Soft...</td>\n",
       "      <td>2019-09-11 18:59:59+00:00</td>\n",
       "    </tr>\n",
       "    <tr>\n",
       "      <td>1</td>\n",
       "      <td>Web Developer</td>\n",
       "      <td>Noe &amp; Associates</td>\n",
       "      <td>New York, NY</td>\n",
       "      <td>&lt;p&gt;A leading international branding and design...</td>\n",
       "      <td>2019-09-09 15:29:25+00:00</td>\n",
       "    </tr>\n",
       "    <tr>\n",
       "      <td>2</td>\n",
       "      <td>Front End Developer</td>\n",
       "      <td>Prosek Partners</td>\n",
       "      <td>Fairfield, CT</td>\n",
       "      <td>&lt;p&gt;Background&lt;/p&gt;\\n&lt;p&gt;Prosek Partners, one of ...</td>\n",
       "      <td>2018-11-19 19:40:01+00:00</td>\n",
       "    </tr>\n",
       "    <tr>\n",
       "      <td>3</td>\n",
       "      <td>Cybersecurity Firm Seeks Senior Developer</td>\n",
       "      <td>Aon Cyber Solutions</td>\n",
       "      <td>NY or LA</td>\n",
       "      <td>&lt;p&gt;Aon Cyber Solutions is looking for a Senior...</td>\n",
       "      <td>2018-11-19 15:44:44+00:00</td>\n",
       "    </tr>\n",
       "    <tr>\n",
       "      <td>4</td>\n",
       "      <td>Lead Front End Developer</td>\n",
       "      <td>The Atlantic</td>\n",
       "      <td>Washington, DC &amp; New York, NY</td>\n",
       "      <td>&lt;p&gt;The Atlantic is a digital-first media compa...</td>\n",
       "      <td>2018-11-14 22:16:02+00:00</td>\n",
       "    </tr>\n",
       "  </tbody>\n",
       "</table>\n",
       "</div>"
      ],
      "text/plain": [
       "                                   job_title              company  \\\n",
       "0                     Lead Software Engineer    Simon & Schuster    \n",
       "1                              Web Developer     Noe & Associates   \n",
       "2                        Front End Developer      Prosek Partners   \n",
       "3  Cybersecurity Firm Seeks Senior Developer  Aon Cyber Solutions   \n",
       "4                   Lead Front End Developer         The Atlantic   \n",
       "\n",
       "                        location  \\\n",
       "0                   New York, NY   \n",
       "1                   New York, NY   \n",
       "2                  Fairfield, CT   \n",
       "3                       NY or LA   \n",
       "4  Washington, DC & New York, NY   \n",
       "\n",
       "                                         description  \\\n",
       "0  <p>Simon &amp; Schuster is seeking a Lead Soft...   \n",
       "1  <p>A leading international branding and design...   \n",
       "2  <p>Background</p>\\n<p>Prosek Partners, one of ...   \n",
       "3  <p>Aon Cyber Solutions is looking for a Senior...   \n",
       "4  <p>The Atlantic is a digital-first media compa...   \n",
       "\n",
       "                 date_posted  \n",
       "0  2019-09-11 18:59:59+00:00  \n",
       "1  2019-09-09 15:29:25+00:00  \n",
       "2  2018-11-19 19:40:01+00:00  \n",
       "3  2018-11-19 15:44:44+00:00  \n",
       "4  2018-11-14 22:16:02+00:00  "
      ]
     },
     "execution_count": 48,
     "metadata": {},
     "output_type": "execute_result"
    }
   ],
   "source": [
    "all_jobs_file = './data/postings/all_jobs.csv'\n",
    "all_jobs.head()"
   ]
  },
  {
   "cell_type": "markdown",
   "metadata": {},
   "source": [
    "## Get Stackoverflow Tags from Description"
   ]
  },
  {
   "cell_type": "markdown",
   "metadata": {},
   "source": [
    "**Note**: Tags are taken from [StackExchange Data Explorer](https://data.stackexchange.com/stackoverflow/query/new) using the query:\n",
    "\n",
    "```\n",
    "    Select TagName, [Count]\n",
    "    From Tags\n",
    "    Order By Count Desc;\n",
    "````\n",
    "For convenience, Stackoverflow Tags can be downloaded from this [gdrive link](https://drive.google.com/open?id=1hFhUIBN7_Ov859cg7ONrUzlPg3VjVrS0). "
   ]
  },
  {
   "cell_type": "code",
   "execution_count": 49,
   "metadata": {},
   "outputs": [
    {
     "name": "stdout",
     "output_type": "stream",
     "text": [
      "(1799, 2)\n"
     ]
    },
    {
     "data": {
      "text/html": [
       "<div>\n",
       "<style scoped>\n",
       "    .dataframe tbody tr th:only-of-type {\n",
       "        vertical-align: middle;\n",
       "    }\n",
       "\n",
       "    .dataframe tbody tr th {\n",
       "        vertical-align: top;\n",
       "    }\n",
       "\n",
       "    .dataframe thead th {\n",
       "        text-align: right;\n",
       "    }\n",
       "</style>\n",
       "<table border=\"1\" class=\"dataframe\">\n",
       "  <thead>\n",
       "    <tr style=\"text-align: right;\">\n",
       "      <th></th>\n",
       "      <th>TagName</th>\n",
       "      <th>Count</th>\n",
       "    </tr>\n",
       "  </thead>\n",
       "  <tbody>\n",
       "    <tr>\n",
       "      <td>0</td>\n",
       "      <td>JAVASCRIPT</td>\n",
       "      <td>1872748</td>\n",
       "    </tr>\n",
       "    <tr>\n",
       "      <td>1</td>\n",
       "      <td>JAVA</td>\n",
       "      <td>1588289</td>\n",
       "    </tr>\n",
       "    <tr>\n",
       "      <td>2</td>\n",
       "      <td>C#</td>\n",
       "      <td>1344882</td>\n",
       "    </tr>\n",
       "  </tbody>\n",
       "</table>\n",
       "</div>"
      ],
      "text/plain": [
       "      TagName    Count\n",
       "0  JAVASCRIPT  1872748\n",
       "1        JAVA  1588289\n",
       "2          C#  1344882"
      ]
     },
     "execution_count": 49,
     "metadata": {},
     "output_type": "execute_result"
    }
   ],
   "source": [
    "tags_file = './data/stackoverflow/QueryResults.csv'\n",
    "\n",
    "tags = pd.read_csv(tags_file).dropna()\n",
    "tags = so_utils.preprocess_stackoverflow_tags(tags, min_count=3000)\n",
    "\n",
    "print(tags.shape)\n",
    "tags.head(3)"
   ]
  },
  {
   "cell_type": "code",
   "execution_count": 53,
   "metadata": {},
   "outputs": [
    {
     "name": "stdout",
     "output_type": "stream",
     "text": [
      "Tags: ['JAVASCRIPT', 'HTML', 'CSS', 'NODEJS', 'GIT', 'DEVISE', 'FRONTEND', 'ES6']\n",
      "\n",
      "Text:\n",
      "===== \n",
      "The Atlantic is a digitalfirst media company with over 160 years of history and 36 million readers a month. Founded in 1857 and today one of the fastestgrowing media platforms in the industry, The Atlantic has throughout its history championed the power of big ideas and continues to shape global debate through our two websites: TheAtlantic.com and CityLab.com. We work in a fastpaced, teamoriented environment out of our office in the historic Watergate complex in Washington DC. This role can be based in either Washington, DC or New York, NY.\n",
      "Who You Are\n",
      "You are an experienced developer with proven leadership and management experience.\n",
      "You are well versed in the modern frontend, and can mentor junior members of the team on the latest best practices concerning ES6, SCSS, and performance. You know how to collaborate with designers, are knowledgeable about CSS conventions and naming methodologies such as BEM, SMACSS, OOCSS, and can describe their relative merits.\n",
      "Your experience has taught you the architectural strategies and practices that are necessary for organizing and maintaining front end code that can scale as our team continues to grow. You know how to evaluate new technology and determine which path will best fit our business needs.\n",
      "Above all, youâ€™re a creative problem solver: able to devise and deliver practical, maintainable software that addresses Atlantic staffersâ€™ and readersâ€™ needs.\n",
      "Primary Responsibilities:\n",
      "\n",
      "Provide feedback and mentorship to the front end team through weekly oneonone check as well as mid and end of the year reviews\n",
      "Help plan and execute team and individual goals, with an eye on team growth and development\n",
      "Champion ways to improve our front end tech stack, including tooling, unit testing, and architecture\n",
      "Collaborate with team members to plan projects, creating technical road maps and breaking projects up into individual tasks as necessary while always keeping in mind long term maintainability\n",
      "Act as a role model to others on the team by exhibiting strong work ethic and technical expertise when writing code or building new website features\n",
      "Act as a expert who can provide technical help and guidance to the other front end developers\n",
      "\n",
      "Requirements:\n",
      "\n",
      "Proven experience with technical leadership and management\n",
      "Experience architecting a front end codebase at scale\n",
      "Strong technical and nontechnical communication skills\n",
      "Able to look at a design and break it into well organized reusable components\n",
      "Experience planning, ticketing, and executing team projects\n",
      "Comfortable with Git for version control\n",
      "Effective time management when working on multiple projects\n",
      "Passionate about front end performance with uptodate knowledge of current techniques\n",
      "Familiar with Node.js and modern frontend build tooling\n",
      "Knowledgeable about modern JavaScript frameworks but comfortable working in Vanilla JS\n",
      "Able to provide a code sample demonstrating expertise at writing and organizing CSS, HTML, and  JavaScript suitable for a complex, fastchanging website\n",
      "\n",
      "Benefits\n",
      "Employees at The Atlantic are entitled to benefits including: 401(k) savings plan with employer match, health care with domestic partner coverage, flexible vacation and sick leave policy, commuter benefits, and rooftop happy hours with one of the best views in DC.\n",
      "Atlantic Media Values:\n",
      "Across Atlantic Media, generally, the firm looks for two â€œpillar giftsâ€� in you, and everyone else.  In all of us, these are more aspirational than actual, but they are central in our intentions â€“\n",
      "\n",
      "\n",
      "Force of Ideas: At the center of Atlantic Media work are the ideas within our writing. We believe that ideas â€“ to the good and not â€“ have consequence. Our highest work is bringing rigor, insight, intellectual integrity, to that ultimate purpose of separating the bad from the good, and giving voice to the latter.\n",
      "\n",
      "Spirit of Generosity: Atlantic Media seeks in its ranks those with natural disposition toward service and selfless conduct. Atlantic Media writing should be cut from the same cloth â€“ critical on the merits, but informed by charity and forbearance in measuring motive and personal character.\n",
      "\n",
      "Atlantic Media is an EOE of Minorities/Women/Vets/Disability.\n",
      "Pursuant to the San Francisco Fair Chance Ordinance, we will consider for employment qualified applicants with arrest and conviction records.\n"
     ]
    }
   ],
   "source": [
    "text = all_jobs.iloc[4]['description']\n",
    "text = so_utils.clean_text(text)\n",
    "extracted_tags = so_utils.get_stackoverflow_tags_from_text(text, tags)\n",
    "print('Tags: {}\\n'.format([tag[0] for tag in extracted_tags]))\n",
    "print('Text:\\n===== \\n{}'.format(text))"
   ]
  },
  {
   "cell_type": "code",
   "execution_count": null,
   "metadata": {},
   "outputs": [],
   "source": [
    "from tqdm import tqdm\n",
    "\n",
    "skills = []\n",
    "for index, row in tqdm(all_jobs.iterrows(), total=len(all_jobs)):\n",
    "    text = row['description']\n",
    "    extracted_tags = so_utils.get_stackoverflow_tags_from_text(text, tags)\n",
    "    skills.append(' '.join([tag[0] for tag in extracted_tags]))\n",
    "\n",
    "all_jobs['skills'] = skills"
   ]
  }
 ],
 "metadata": {
  "kernelspec": {
   "display_name": "datakind-bloc-env",
   "language": "python",
   "name": "datakind-bloc-env"
  },
  "language_info": {
   "codemirror_mode": {
    "name": "ipython",
    "version": 3
   },
   "file_extension": ".py",
   "mimetype": "text/x-python",
   "name": "python",
   "nbconvert_exporter": "python",
   "pygments_lexer": "ipython3",
   "version": "3.7.4"
  }
 },
 "nbformat": 4,
 "nbformat_minor": 4
}
