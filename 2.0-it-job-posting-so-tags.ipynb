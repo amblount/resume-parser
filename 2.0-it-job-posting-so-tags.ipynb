{
 "cells": [
  {
   "cell_type": "code",
   "execution_count": 46,
   "metadata": {},
   "outputs": [],
   "source": [
    "import pandas as pd\n",
    "import so_utils"
   ]
  },
  {
   "cell_type": "markdown",
   "metadata": {},
   "source": [
    "# Load Job Postings"
   ]
  },
  {
   "cell_type": "code",
   "execution_count": 48,
   "metadata": {},
   "outputs": [
    {
     "data": {
      "text/html": [
       "<div>\n",
       "<style scoped>\n",
       "    .dataframe tbody tr th:only-of-type {\n",
       "        vertical-align: middle;\n",
       "    }\n",
       "\n",
       "    .dataframe tbody tr th {\n",
       "        vertical-align: top;\n",
       "    }\n",
       "\n",
       "    .dataframe thead th {\n",
       "        text-align: right;\n",
       "    }\n",
       "</style>\n",
       "<table border=\"1\" class=\"dataframe\">\n",
       "  <thead>\n",
       "    <tr style=\"text-align: right;\">\n",
       "      <th></th>\n",
       "      <th>job_title</th>\n",
       "      <th>company</th>\n",
       "      <th>location</th>\n",
       "      <th>description</th>\n",
       "      <th>date_posted</th>\n",
       "    </tr>\n",
       "  </thead>\n",
       "  <tbody>\n",
       "    <tr>\n",
       "      <td>0</td>\n",
       "      <td>Lead Software Engineer</td>\n",
       "      <td>Simon &amp; Schuster</td>\n",
       "      <td>New York, NY</td>\n",
       "      <td>&lt;p&gt;Simon &amp;amp; Schuster is seeking a Lead Soft...</td>\n",
       "      <td>2019-09-11 18:59:59+00:00</td>\n",
       "    </tr>\n",
       "    <tr>\n",
       "      <td>1</td>\n",
       "      <td>Web Developer</td>\n",
       "      <td>Noe &amp; Associates</td>\n",
       "      <td>New York, NY</td>\n",
       "      <td>&lt;p&gt;A leading international branding and design...</td>\n",
       "      <td>2019-09-09 15:29:25+00:00</td>\n",
       "    </tr>\n",
       "    <tr>\n",
       "      <td>2</td>\n",
       "      <td>Front End Developer</td>\n",
       "      <td>Prosek Partners</td>\n",
       "      <td>Fairfield, CT</td>\n",
       "      <td>&lt;p&gt;Background&lt;/p&gt;\\n&lt;p&gt;Prosek Partners, one of ...</td>\n",
       "      <td>2018-11-19 19:40:01+00:00</td>\n",
       "    </tr>\n",
       "    <tr>\n",
       "      <td>3</td>\n",
       "      <td>Cybersecurity Firm Seeks Senior Developer</td>\n",
       "      <td>Aon Cyber Solutions</td>\n",
       "      <td>NY or LA</td>\n",
       "      <td>&lt;p&gt;Aon Cyber Solutions is looking for a Senior...</td>\n",
       "      <td>2018-11-19 15:44:44+00:00</td>\n",
       "    </tr>\n",
       "    <tr>\n",
       "      <td>4</td>\n",
       "      <td>Lead Front End Developer</td>\n",
       "      <td>The Atlantic</td>\n",
       "      <td>Washington, DC &amp; New York, NY</td>\n",
       "      <td>&lt;p&gt;The Atlantic is a digital-first media compa...</td>\n",
       "      <td>2018-11-14 22:16:02+00:00</td>\n",
       "    </tr>\n",
       "  </tbody>\n",
       "</table>\n",
       "</div>"
      ],
      "text/plain": [
       "                                   job_title              company  \\\n",
       "0                     Lead Software Engineer    Simon & Schuster    \n",
       "1                              Web Developer     Noe & Associates   \n",
       "2                        Front End Developer      Prosek Partners   \n",
       "3  Cybersecurity Firm Seeks Senior Developer  Aon Cyber Solutions   \n",
       "4                   Lead Front End Developer         The Atlantic   \n",
       "\n",
       "                        location  \\\n",
       "0                   New York, NY   \n",
       "1                   New York, NY   \n",
       "2                  Fairfield, CT   \n",
       "3                       NY or LA   \n",
       "4  Washington, DC & New York, NY   \n",
       "\n",
       "                                         description  \\\n",
       "0  <p>Simon &amp; Schuster is seeking a Lead Soft...   \n",
       "1  <p>A leading international branding and design...   \n",
       "2  <p>Background</p>\\n<p>Prosek Partners, one of ...   \n",
       "3  <p>Aon Cyber Solutions is looking for a Senior...   \n",
       "4  <p>The Atlantic is a digital-first media compa...   \n",
       "\n",
       "                 date_posted  \n",
       "0  2019-09-11 18:59:59+00:00  \n",
       "1  2019-09-09 15:29:25+00:00  \n",
       "2  2018-11-19 19:40:01+00:00  \n",
       "3  2018-11-19 15:44:44+00:00  \n",
       "4  2018-11-14 22:16:02+00:00  "
      ]
     },
     "execution_count": 48,
     "metadata": {},
     "output_type": "execute_result"
    }
   ],
   "source": [
    "all_jobs_file = './data/postings/all_jobs.csv'\n",
    "all_jobs.head()"
   ]
  },
  {
   "cell_type": "markdown",
   "metadata": {},
   "source": [
    "## Get Stackoverflow Tags from Description"
   ]
  },
  {
   "cell_type": "markdown",
   "metadata": {},
   "source": [
    "**Note**: Tags are taken from [StackExchange Data Explorer](https://data.stackexchange.com/stackoverflow/query/new) using the query:\n",
    "\n",
    "```\n",
    "    Select TagName, [Count]\n",
    "    From Tags\n",
    "    Order By Count Desc;\n",
    "````\n",
    "For convenience, Stackoverflow Tags can be downloaded from this [gdrive link](https://drive.google.com/open?id=1hFhUIBN7_Ov859cg7ONrUzlPg3VjVrS0). "
   ]
  },
  {
   "cell_type": "code",
   "execution_count": 49,
   "metadata": {},
   "outputs": [
    {
     "name": "stdout",
     "output_type": "stream",
     "text": [
      "(1799, 2)\n"
     ]
    },
    {
     "data": {
      "text/html": [
       "<div>\n",
       "<style scoped>\n",
       "    .dataframe tbody tr th:only-of-type {\n",
       "        vertical-align: middle;\n",
       "    }\n",
       "\n",
       "    .dataframe tbody tr th {\n",
       "        vertical-align: top;\n",
       "    }\n",
       "\n",
       "    .dataframe thead th {\n",
       "        text-align: right;\n",
       "    }\n",
       "</style>\n",
       "<table border=\"1\" class=\"dataframe\">\n",
       "  <thead>\n",
       "    <tr style=\"text-align: right;\">\n",
       "      <th></th>\n",
       "      <th>TagName</th>\n",
       "      <th>Count</th>\n",
       "    </tr>\n",
       "  </thead>\n",
       "  <tbody>\n",
       "    <tr>\n",
       "      <td>0</td>\n",
       "      <td>JAVASCRIPT</td>\n",
       "      <td>1872748</td>\n",
       "    </tr>\n",
       "    <tr>\n",
       "      <td>1</td>\n",
       "      <td>JAVA</td>\n",
       "      <td>1588289</td>\n",
       "    </tr>\n",
       "    <tr>\n",
       "      <td>2</td>\n",
       "      <td>C#</td>\n",
       "      <td>1344882</td>\n",
       "    </tr>\n",
       "  </tbody>\n",
       "</table>\n",
       "</div>"
      ],
      "text/plain": [
       "      TagName    Count\n",
       "0  JAVASCRIPT  1872748\n",
       "1        JAVA  1588289\n",
       "2          C#  1344882"
      ]
     },
     "execution_count": 49,
     "metadata": {},
     "output_type": "execute_result"
    }
   ],
   "source": [
    "tags_file = './data/stackoverflow/QueryResults.csv'\n",
    "\n",
    "tags = pd.read_csv(tags_file).dropna()\n",
    "tags = so_utils.preprocess_stackoverflow_tags(tags, min_count=3000)\n",
    "\n",
    "print(tags.shape)\n",
    "tags.head(3)"
   ]
  },
  {
   "cell_type": "code",
   "execution_count": 54,
   "metadata": {},
   "outputs": [
    {
     "name": "stdout",
     "output_type": "stream",
     "text": [
      "Tags: ['JAVA', 'PYTHON', 'SQL', 'REACT', 'NODEJS', 'DJANGO', 'GIT', 'POSTGRESQL', 'TYPESCRIPT', 'APACHE', 'REST', 'REACT-NATIVE', 'HTTP', 'ELASTICSEARCH', 'AWS', 'XAMARIN', 'JENKINS', 'D3JS', 'FLASK', 'WEBPACK', 'MOBILE', 'KAFKA', 'HTTPS', 'APACHE-KAFKA', 'STATISTICS', 'NOSQL', 'LEAFLET', 'JWT', 'JIRA', 'IONIC', 'NATIVE', 'BOKEH', 'COMPUTER-SCIENCE']\n",
      "\n",
      "Text:\n",
      "===== \n",
      "Aon Cyber Solutions is looking for a Senior Developer in NY or LA. As part of an industryleading team, you will help empower results for our clients by delivering innovative and effective solutions supporting Risk.\n",
      "APPLY HERE: https://usstrozfriedbergaon.icims.com/jobs/24315/seniordeveloper/job\n",
      "Position Overview\n",
      "Join our expert software development team to create new customerfacing web applications. You will apply your expertise in web development and user interface design, working in concert with subject matter experts in digital forensics, incident response, cybersecurity, and threat intelligence. Your applications will convey deeply technical facts and analyses to a variety of consumers, from risk managers to subject matter experts to Clevel executives.\n",
      "The responsibilities of this position include but are not limited to the following:\n",
      "\n",
      "Design and develop pioneering web applications that cross the boundaries of security assessment, digital forensics, incident response, malware analysis, cybersecurity, and cyberinsurance.\n",
      "Serve as a senior developer on multiple product teams.\n",
      "Create user interfaces, APIs, data visualizations, and reports that provide our clients with insight into complex narratives and data sets.\n",
      "Translate highlevel requirements into working prototypes to generate user feedback and discussion.\n",
      "Adapt and apply cutting edge computer science to highly technical domains.\n",
      "Participate in code reviews, write test suites, profile components, and take ownership of our software, source code, tools, and processes.\n",
      "Mentor other developers.\n",
      "Contribute to a positive, collaborative culture for innovation.\n",
      "\n",
      "Requirements\n",
      "\n",
      "5+ years of software engineer experience.\n",
      "Proficiency in frontend technologies (React, Node.js, Webpack).     Experience working with relational and NoSQL databases.\n",
      "Strong knowledge of HTTP and REST web services implementation.\n",
      "Test driven development and unit testing frameworks.\n",
      "Modern DevOps experience.\n",
      "Standard software engineering tools (git, Jenkins, JIRA).\n",
      "The proven ability to see things as they should be, and to realize that vision.\n",
      "Comfort with agile development and remote team environments.\n",
      "Excellence in verbal and written communication.\n",
      "\n",
      "Desired Skills\n",
      "\n",
      "TypeScript\n",
      "Python 3 and web frameworks such as Django or Flask.\n",
      "SQL & relational database modeling.\n",
      "Experience in deployment to AWS, especially serverless technologies.\n",
      "Strong knowledge of JWT and various web security models.\n",
      "D3.js, Vega, Bokeh, Leaflet, and other browser visualization libraries.   Experimentdriven design and iterative featuresbased development (A/B testing, etc.).\n",
      "ElasticSearch, Apache Kafka, AWS Kinesis, PostgreSQL, AWS Aurora.\n",
      "Java 8 and other JVMbased languages.\n",
      "Performance monitoring and optimization.\n",
      "Mobile development using Native or Crossplatform (Xamarin, Ionic, React Native).\n",
      "\n",
      "Education Required\n",
      "\n",
      "BS or BA in Computer Science, Mathematics, or Statistics, or equivalent experience.\n"
     ]
    }
   ],
   "source": [
    "text = all_jobs.iloc[3]['description']\n",
    "text = so_utils.clean_text(text)\n",
    "extracted_tags = so_utils.get_stackoverflow_tags_from_text(text, tags)\n",
    "print('Tags: {}\\n'.format([tag[0] for tag in extracted_tags]))\n",
    "print('Text:\\n===== \\n{}'.format(text))"
   ]
  },
  {
   "cell_type": "code",
   "execution_count": null,
   "metadata": {},
   "outputs": [],
   "source": [
    "from tqdm import tqdm\n",
    "\n",
    "skills = []\n",
    "for index, row in tqdm(all_jobs.iterrows(), total=len(all_jobs)):\n",
    "    text = row['description']\n",
    "    extracted_tags = so_utils.get_stackoverflow_tags_from_text(text, tags)\n",
    "    skills.append(' '.join([tag[0] for tag in extracted_tags]))\n",
    "\n",
    "all_jobs['skills'] = skills"
   ]
  }
 ],
 "metadata": {
  "kernelspec": {
   "display_name": "datakind-bloc-env",
   "language": "python",
   "name": "datakind-bloc-env"
  },
  "language_info": {
   "codemirror_mode": {
    "name": "ipython",
    "version": 3
   },
   "file_extension": ".py",
   "mimetype": "text/x-python",
   "name": "python",
   "nbconvert_exporter": "python",
   "pygments_lexer": "ipython3",
   "version": "3.7.4"
  }
 },
 "nbformat": 4,
 "nbformat_minor": 4
}
