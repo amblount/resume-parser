{
 "cells": [
  {
   "cell_type": "markdown",
   "metadata": {},
   "source": [
    "## Task: Job posting ingestion pipeline\n",
    "\n",
    "\n",
    "### CoNVO\n",
    "\n",
    "**Context:** Bloc is a career services management platform that builds smart career and data management tools for job-seekers and the organizations serving them. In particular, Bloc seeks to provide and facilitate access to tools for effectively presenting job-seekers' credentials and matching employers' job postings, and thereby improve outcomes.\n",
    "\n",
    "**Need:** Job-seekers need help finding job postings that are aligned with their skills, goals, salary, and location (among other constraints), since that helps to reduce time spent filtering out bad matches and improve the likelihood of a successful outcome. Typical \"fuzzy search\" by job title, maybe with structured filters layered on top, performs decently well, but does take time. Unfortunately, an outside consumer of job postings like Bloc generally has more restricted options in terms of a jobs search.\n",
    "\n",
    "**Vision:** Automated extraction of key information from job postings, and perhaps classification of postings into relevant categories, pulled from external data sources, in order to better match job postings with job-seekers.\n",
    "\n",
    "**Outcome:** A standalone, proof-of-concept process for extracting key job posting information (and categorizing it into relevant classes), and returning it as structured data, complete with unit tests and documentation on expected usage, limitations, and potential improvements.\n",
    "\n",
    "\n",
    "### Data Summary\n",
    "\n",
    "A collection of ~2100 job postings for tech+data roles in several major U.S. cities have been fetched from the following external APIs:\n",
    "\n",
    "- [GitHub Jobs API](https://jobs.github.com/api)\n",
    "- [Indeed.com API](https://opensource.indeedeng.io/api-documentation/)\n",
    "- [TheMuse.com API](https://www.themuse.com/developers/api/v2)\n",
    "\n",
    "The APIs all return JSON-formatted data, but with a variety of fields and level of detail. All jobs include structured data for the job title, location, company, and URL, as well as a field containing either all or a short snippet of the job description as text data. These descriptions generally contain information on required / desired applicant qualifications, expected responsibilities and tasks, company missions and benefits, and more -- but snippets don't consistently contain the most important details.\n",
    "\n",
    "\n",
    "### Proposed Methodology\n",
    "\n",
    "The first and simplest task is to transform the structured data from each of the data sources into a consistent representation; in practice, this will entail renaming fields and parsing values (e.g. dates) into a standardized form. The second task is to extract as much relevant information from the free text job descriptions as possible -- key skills, technological expertise, education requirements, etc. -- in a form that allows for matching against job-seekers' skills, expertise, education. A combination of regular expressions, fuzzy string matching, and dictionary/gazetteer lookups, and other basic text processing will hopefully be enough to reliably extract info. The final, possibly optional task is to train text categorizers to predict classes of interest based on the descriptions' text: company culture? flexibility of work-life balance? Given the small size of the dataset, a simple bag-of-words-based approach may be more likely to succeed than, say, a deep learning model.\n",
    "\n",
    "\n",
    "### Definitions of Success\n",
    "\n",
    "- **Baseline:** A function that accepts a job posting from any of the three listed data sources and returns standardized, structured data for key job metadata (title, location, company, and posting URL), plus any available information on skills/expertise/education required or desired for the role. The quality of the extracted values may be messy or not fully structured, but shouldn't contain values from other fields. This function should have basic unit tests and documentation.\n",
    "- **Target:** A function that accepts a job posting from any of the three listed data sources and returns standardized, structured data for key job metadata and available information on required/desired job qualifications (see Baseline), plus any available information on expected responsibilities and company mission/benefits. The quality of the extracted values should be mostly structured -- not large blobs of text, just the most informative bits -- and shouldn't contain values from other fields. This function should have unit tests covering a variety of expected scenarios and good documentation.\n",
    "- **Stretch:** A function as described in Target, plus trained text categorization models for predicting one or more classes of interest. Text preprocessing and model structure must be documented, as well as validation results for model performance.\n",
    "\n",
    "\n",
    "### Risks\n",
    "\n",
    "It's possible that the information included in / extracted from job postings is too complex or varied for sufficiently accurate rules-based parsing, in which case a more sophisticated (ML- or DL-based) approach would be necessary, albeit impractical owing to time and data constraints. It's also possible that a rules-based approach is feasible, but too difficult / large a task for a single day's work.\n",
    "\n",
    "Similarly, job categories that Bloc would find most useful may not be feasible given the size and limitations of the available training dataset. The challenge here is finding categorizations that are still useful but not too abstract/complex for a machine to learn with sufficient accuracy in a single day's work."
   ]
  },
  {
   "cell_type": "markdown",
   "metadata": {},
   "source": [
    "## Source Code"
   ]
  },
  {
   "cell_type": "code",
   "execution_count": 1,
   "metadata": {},
   "outputs": [],
   "source": [
    "%load_ext watermark"
   ]
  },
  {
   "cell_type": "markdown",
   "metadata": {},
   "source": [
    "### Dataset Generation"
   ]
  },
  {
   "cell_type": "code",
   "execution_count": 2,
   "metadata": {},
   "outputs": [],
   "source": [
    "import io\n",
    "import itertools\n",
    "import json\n",
    "import os\n",
    "import random\n",
    "\n",
    "import requests"
   ]
  },
  {
   "cell_type": "code",
   "execution_count": 3,
   "metadata": {},
   "outputs": [
    {
     "name": "stdout",
     "output_type": "stream",
     "text": [
      "json     2.0.9\n",
      "requests 2.22.0\n",
      "CPython 3.7.4\n",
      "IPython 7.8.0\n"
     ]
    }
   ],
   "source": [
    "%watermark -v -iv"
   ]
  },
  {
   "cell_type": "code",
   "execution_count": 4,
   "metadata": {},
   "outputs": [],
   "source": [
    "data_dir = \"/Users/burtondewilde/Desktop/datakind/bloc/msvdd_Bloc/data/postings\"\n",
    "role_queries = [\n",
    "    \"web developer\",\n",
    "    \"front-end developer\",\n",
    "    \"back-end developer\",\n",
    "    \"full-stack developer\",\n",
    "    \"python\",\n",
    "    \"data scientist\",\n",
    "    \"data engineer\",\n",
    "]\n",
    "category_queries = [\"Engineering\", \"Data Science\"]\n",
    "locations = [\"New York, NY\", \"Chicago, IL\", \"San Francisco, CA\", \"Seattle, WA\"]"
   ]
  },
  {
   "cell_type": "code",
   "execution_count": 5,
   "metadata": {},
   "outputs": [],
   "source": [
    "def dedupe_results(results, dupe_key):\n",
    "    \"\"\"\n",
    "    Args:\n",
    "        results ((List[dict]))\n",
    "        dupe_key (str)\n",
    "    \n",
    "    Returns:\n",
    "        List[dict]\n",
    "    \"\"\"\n",
    "    unique_results = []\n",
    "    seen_keys = set()\n",
    "    for result in results:\n",
    "        if result[dupe_key] in seen_keys:\n",
    "            continue\n",
    "        else:\n",
    "            seen_keys.add(result[dupe_key])\n",
    "            unique_results.append(result)\n",
    "    return unique_results\n",
    "\n",
    "\n",
    "def chunk_items(items, chunk_size):\n",
    "    \"\"\"\n",
    "    Yield successive chunks of items.\n",
    "    \n",
    "    Args:\n",
    "        items (list or tuple)\n",
    "        chunk_size (int)\n",
    "    \n",
    "    Yields:\n",
    "        list or tuple\n",
    "    \"\"\"\n",
    "    for i in range(0, len(items), chunk_size):\n",
    "        yield items[i : min(i + chunk_size, len(items))]\n",
    "        \n",
    "    \n",
    "def save_jobs_to_disk(data, filepath):\n",
    "    \"\"\"\n",
    "    Args:\n",
    "        data (List[dict])\n",
    "        filepath (str)\n",
    "    \"\"\"\n",
    "    with io.open(filepath, mode=\"wt\", encoding=\"utf-8\") as f:\n",
    "        json.dump(data, f, ensure_ascii=False, indent=4)"
   ]
  },
  {
   "cell_type": "markdown",
   "metadata": {},
   "source": [
    "#### GitHub Jobs API"
   ]
  },
  {
   "cell_type": "code",
   "execution_count": 6,
   "metadata": {},
   "outputs": [],
   "source": [
    "def search_github_jobs(*, query, location=None, limit=None):\n",
    "    \"\"\"\n",
    "    Args:\n",
    "        query (str): A search term, such as \"ruby\" or \"java\".\n",
    "        location (str): Like \"New York, NY\".\n",
    "        limit (int)\n",
    "        \n",
    "    Returns:\n",
    "        List[dict]\n",
    "    \"\"\"\n",
    "    base_url = \"https://jobs.github.com/positions.json\"\n",
    "    params = {\"description\": query}\n",
    "    if location:\n",
    "        params[\"location\"] = location\n",
    "    results = []\n",
    "    i = 0\n",
    "    while True:\n",
    "        page_params = params.copy()\n",
    "        page_params[\"page\"] = i\n",
    "        try:\n",
    "            response = requests.get(base_url, params=page_params)\n",
    "            response.raise_for_status()\n",
    "        except requests.RequestException as e:\n",
    "            print(e)\n",
    "            break\n",
    "        page_results = response.json()\n",
    "        results.extend(page_results)\n",
    "        i += 1\n",
    "        if len(page_results) < 50:\n",
    "            break\n",
    "        elif limit is not None and len(results) > limit:\n",
    "            break\n",
    "    if limit is not None:\n",
    "        return results[:limit]\n",
    "    else:\n",
    "        return results"
   ]
  },
  {
   "cell_type": "code",
   "execution_count": 7,
   "metadata": {},
   "outputs": [
    {
     "name": "stdout",
     "output_type": "stream",
     "text": [
      "(query, location) => ('web developer', 'New York, NY')\n",
      "(query, location) => ('web developer', 'Chicago, IL')\n",
      "(query, location) => ('web developer', 'San Francisco, CA')\n",
      "(query, location) => ('web developer', 'Seattle, WA')\n",
      "(query, location) => ('front-end developer', 'New York, NY')\n",
      "(query, location) => ('front-end developer', 'Chicago, IL')\n",
      "(query, location) => ('front-end developer', 'San Francisco, CA')\n",
      "(query, location) => ('front-end developer', 'Seattle, WA')\n",
      "(query, location) => ('back-end developer', 'New York, NY')\n",
      "(query, location) => ('back-end developer', 'Chicago, IL')\n",
      "(query, location) => ('back-end developer', 'San Francisco, CA')\n",
      "(query, location) => ('back-end developer', 'Seattle, WA')\n",
      "(query, location) => ('full-stack developer', 'New York, NY')\n",
      "(query, location) => ('full-stack developer', 'Chicago, IL')\n",
      "(query, location) => ('full-stack developer', 'San Francisco, CA')\n",
      "(query, location) => ('full-stack developer', 'Seattle, WA')\n",
      "(query, location) => ('python', 'New York, NY')\n",
      "(query, location) => ('python', 'Chicago, IL')\n",
      "(query, location) => ('python', 'San Francisco, CA')\n",
      "(query, location) => ('python', 'Seattle, WA')\n",
      "(query, location) => ('data scientist', 'New York, NY')\n",
      "(query, location) => ('data scientist', 'Chicago, IL')\n",
      "(query, location) => ('data scientist', 'San Francisco, CA')\n",
      "(query, location) => ('data scientist', 'Seattle, WA')\n",
      "(query, location) => ('data engineer', 'New York, NY')\n",
      "(query, location) => ('data engineer', 'Chicago, IL')\n",
      "(query, location) => ('data engineer', 'San Francisco, CA')\n",
      "(query, location) => ('data engineer', 'Seattle, WA')\n",
      "# jobs fetched = 42\n"
     ]
    },
    {
     "data": {
      "text/plain": [
       "[{'id': '3e378b91-7cc0-486e-b18d-518ab29569e3',\n",
       "  'type': 'Full Time',\n",
       "  'url': 'https://jobs.github.com/positions/3e378b91-7cc0-486e-b18d-518ab29569e3',\n",
       "  'created_at': 'Wed Sep 11 18:59:59 UTC 2019',\n",
       "  'company': 'Simon & Schuster ',\n",
       "  'company_url': 'https://www.simonandschuster.com/',\n",
       "  'location': 'New York, NY',\n",
       "  'title': 'Lead Software Engineer',\n",
       "  'description': '<p>Simon &amp; Schuster is seeking a Lead Software Engineer to join a rapidly growing team focused on impacting the world of publishing through research and innovation. Working with a team of data scientists, data engineers, designers, and domain experts, you will be involved in rapidly prototyping, developing, and deploying the platforms that put insights and information into the hands of decision-makers.</p>\\n<p>From databases to serverless applications, you will be designing, deploying , and managing the systems that connect our real-world data to the books and authors that inform and entertain our world. As a Full Stack (Engineer|Developer) you will engage with engineers and domain experts across the organization, collaborating to design and deploy innovative new products and services. From inception to production, you will onboard, integrate and deploy an array of cutting-edge tools and technologies to seamlessly deliver our solutions.</p>\\n<p>Publishing experience is not required. Instead we are seeking teammates with curiosity, problem-solving skills, and a thirst for knowledge.</p>\\n<p>Responsibilities:</p>\\n<p>●     Scale team success from prototype to production.\\n●     Own the software engineering aspects of our data services and applications.\\n●     Design, build, test, and deploy solutions serving the entire organization.\\n●     Be the “go to” engineer for our products and services.\\n●     Tailor and drive the creation and adoption of best practices for software engineering for our team and peer engineering teams across the organization.\\n●     Work with users, designers, developers, and analysts to ensure requirements-driven engineering in all we do.\\n●     Ensure high availability and security are maintained in the products and services delivered by our team.</p>\\n<p>Qualifications:\\n●     5+ years experience in web application development and managing deployments\\n●      Experience with full-stack development: Front-end, web servers, databases and storage.\\n●      Deep understanding of modern software development practices (CI/CD, Continuous Monitoring, Testing, Documentation)\\n●     Experience in production commercial with architecting and managing cloud deployments (GCP, AWS, Azure, etc.)\\n●     Proficiency with Linux, SQL, Python, and Javascript required\\n●     Solid background working with large-scale and fast-moving data technologies (Streaming, NoSQL, Object-stores, etc.)\\n●     Familiarity with common build systems, Github/Gitlab, Confluence, JIRA\\n●     Ability to work effectively in teams of technical and non-technical people.\\n●     Ability to work independently and effectively\\n●     Desire to research and communicate requirements and solutions.</p>\\n',\n",
       "  'how_to_apply': '<p>Apply Online: <a href=\"https://cbs.avature.net/cbssscareers/JobDetail/Lead-Software-Engineer/14487\">https://cbs.avature.net/cbssscareers/JobDetail/Lead-Software-Engineer/14487</a></p>\\n',\n",
       "  'company_logo': 'https://jobs.github.com/rails/active_storage/blobs/eyJfcmFpbHMiOnsibWVzc2FnZSI6IkJBaHBBdDF4IiwiZXhwIjpudWxsLCJwdXIiOiJibG9iX2lkIn19--acf24dd4bdd4f94a7d7a2dfc717ef5415bad86ce/43811-1.jpg'}]"
      ]
     },
     "execution_count": 7,
     "metadata": {},
     "output_type": "execute_result"
    }
   ],
   "source": [
    "all_search_results = []\n",
    "for query, location in itertools.product(role_queries, locations):\n",
    "    print(\"(query, location) =>\", (query, location))\n",
    "    try:\n",
    "        results = search_github_jobs(query=query, location=location, limit=100)\n",
    "        all_search_results.extend(results)\n",
    "    except Exception:\n",
    "        break\n",
    "\n",
    "# deduplicate the list of search results\n",
    "github_jobs = dedupe_results(all_search_results, \"id\")\n",
    "print(\"# jobs fetched =\", len(github_jobs))\n",
    "github_jobs[:1]"
   ]
  },
  {
   "cell_type": "code",
   "execution_count": 8,
   "metadata": {},
   "outputs": [],
   "source": [
    "save_jobs_to_disk(github_jobs, os.path.join(data_dir, \"github_jobs.json\"))"
   ]
  },
  {
   "cell_type": "markdown",
   "metadata": {},
   "source": [
    "#### Indeed.com API"
   ]
  },
  {
   "cell_type": "code",
   "execution_count": 9,
   "metadata": {},
   "outputs": [],
   "source": [
    "def search_indeed_jobs(publisher_id, user_ip, *, query, location=None, limit=None):\n",
    "    \"\"\"\n",
    "    Args:\n",
    "        publisher_id (str)\n",
    "        user_ip (str)\n",
    "        query (str): A search term, such as \"ruby\" or \"java\".\n",
    "        location (str): Like \"New York, NY\".\n",
    "        limit (int)\n",
    "    \n",
    "    Returns:\n",
    "        List[dict]\n",
    "    \"\"\"\n",
    "    base_url = \"http://api.indeed.com/ads/apisearch\"\n",
    "    results_per_page = 25\n",
    "    params = {\n",
    "        \"publisher\": publisher_id,\n",
    "        \"userip\": user_ip,\n",
    "        \"useragent\": \"blocbot python/v1\",\n",
    "        \"v\": 2,\n",
    "        \"format\": \"json\",\n",
    "        \"filter\": 1,\n",
    "        \"limit\": results_per_page,  # not the same as `limit` kwarg\n",
    "    }\n",
    "    params[\"q\"] = query\n",
    "    if location:\n",
    "        params[\"l\"] = location\n",
    "    start = 0\n",
    "    results = []\n",
    "    while True:\n",
    "        page_params = params.copy()\n",
    "        page_params[\"start\"] = start\n",
    "        try:\n",
    "            response = requests.get(base_url, params=page_params)\n",
    "            response.raise_for_status()\n",
    "        except requests.RequestException as e:\n",
    "            print(e)\n",
    "            break\n",
    "        page_results = response.json().get(\"results\", [])\n",
    "        results.extend(page_results)\n",
    "        start += results_per_page\n",
    "        if len(page_results) < results_per_page:\n",
    "            break\n",
    "        elif limit is not None and len(results) > limit:\n",
    "            break\n",
    "    if limit is not None:\n",
    "        results = results[:limit]\n",
    "    \n",
    "    detailed_results = []\n",
    "    job_keys = [result[\"jobkey\"] for result in results]\n",
    "    base_url = \"http://api.indeed.com/ads/apigetjobs\"\n",
    "    params = {\n",
    "        \"publisher\": publisher_id,\n",
    "        \"userip\": user_ip,\n",
    "        \"v\": 2,\n",
    "        \"format\": \"json\",\n",
    "    }\n",
    "    for job_keys_chunk in chunk_items(job_keys, 10):\n",
    "        chunk_params = params.copy()\n",
    "        chunk_params[\"jobkeys\"] = \",\".join(job_key for job_key in job_keys_chunk)\n",
    "        try:\n",
    "            response = requests.get(base_url, params=chunk_params)\n",
    "            response.raise_for_status()\n",
    "        except requests.RequestException as e:\n",
    "            print(e)\n",
    "            break\n",
    "        chunk_results = response.json().get(\"results\", [])\n",
    "        detailed_results.extend(chunk_results)\n",
    "    return detailed_results"
   ]
  },
  {
   "cell_type": "code",
   "execution_count": 10,
   "metadata": {},
   "outputs": [],
   "source": [
    "with io.open(\"/Users/burtondewilde/.bloc/indeed\", mode=\"rt\") as f:\n",
    "    publisher_id = f.read().strip()"
   ]
  },
  {
   "cell_type": "code",
   "execution_count": 11,
   "metadata": {},
   "outputs": [],
   "source": [
    "user_ip = requests.get(\"https://api.ipify.org\").text"
   ]
  },
  {
   "cell_type": "code",
   "execution_count": 12,
   "metadata": {},
   "outputs": [
    {
     "name": "stdout",
     "output_type": "stream",
     "text": [
      "(query, location) => ('web developer', 'New York, NY')\n",
      "(query, location) => ('web developer', 'Chicago, IL')\n",
      "(query, location) => ('web developer', 'San Francisco, CA')\n",
      "(query, location) => ('web developer', 'Seattle, WA')\n",
      "(query, location) => ('front-end developer', 'New York, NY')\n",
      "(query, location) => ('front-end developer', 'Chicago, IL')\n",
      "(query, location) => ('front-end developer', 'San Francisco, CA')\n",
      "(query, location) => ('front-end developer', 'Seattle, WA')\n",
      "(query, location) => ('back-end developer', 'New York, NY')\n",
      "(query, location) => ('back-end developer', 'Chicago, IL')\n",
      "(query, location) => ('back-end developer', 'San Francisco, CA')\n",
      "(query, location) => ('back-end developer', 'Seattle, WA')\n",
      "(query, location) => ('full-stack developer', 'New York, NY')\n",
      "(query, location) => ('full-stack developer', 'Chicago, IL')\n",
      "(query, location) => ('full-stack developer', 'San Francisco, CA')\n",
      "(query, location) => ('full-stack developer', 'Seattle, WA')\n",
      "(query, location) => ('python', 'New York, NY')\n",
      "(query, location) => ('python', 'Chicago, IL')\n",
      "(query, location) => ('python', 'San Francisco, CA')\n",
      "(query, location) => ('python', 'Seattle, WA')\n",
      "(query, location) => ('data scientist', 'New York, NY')\n",
      "(query, location) => ('data scientist', 'Chicago, IL')\n",
      "(query, location) => ('data scientist', 'San Francisco, CA')\n",
      "(query, location) => ('data scientist', 'Seattle, WA')\n",
      "(query, location) => ('data engineer', 'New York, NY')\n",
      "(query, location) => ('data engineer', 'Chicago, IL')\n",
      "(query, location) => ('data engineer', 'San Francisco, CA')\n",
      "(query, location) => ('data engineer', 'Seattle, WA')\n",
      "# jobs fetched = 1721\n"
     ]
    },
    {
     "data": {
      "text/plain": [
       "[{'jobtitle': 'Junior Developer',\n",
       "  'company': 'Muratek',\n",
       "  'city': 'New York',\n",
       "  'state': 'NY',\n",
       "  'country': 'US',\n",
       "  'language': 'en',\n",
       "  'formattedLocation': 'New York, NY',\n",
       "  'source': 'Indeed',\n",
       "  'date': 'Fri, 20 Sep 2019 16:25:56 GMT',\n",
       "  'snippet': 'Develop and maintain code, image assets and content for multiple company and client projects. Manage multiple projects and execute design from concept to launch. We are IT Networking Consultants that work with a wide array of clientele. Linux command line....',\n",
       "  'url': 'http://www.indeed.com/rc/clk?jk=f8026d3d2654ebbf&atk=',\n",
       "  'onmousedown': \"indeed_clk(this,'');\",\n",
       "  'latitude': 40.70609,\n",
       "  'longitude': -74.00445,\n",
       "  'jobkey': 'f8026d3d2654ebbf',\n",
       "  'sponsored': False,\n",
       "  'expired': False,\n",
       "  'indeedApply': True,\n",
       "  'formattedLocationFull': 'New York, NY 10038',\n",
       "  'formattedRelativeTime': '5 days ago',\n",
       "  'stations': '',\n",
       "  'recommendations': []}]"
      ]
     },
     "execution_count": 12,
     "metadata": {},
     "output_type": "execute_result"
    }
   ],
   "source": [
    "all_search_results = []\n",
    "for query, location in itertools.product(role_queries, locations):\n",
    "    print(\"(query, location) =>\", (query, location))\n",
    "    try:\n",
    "        results = search_indeed_jobs(publisher_id, user_ip, query=query, location=location, limit=100)\n",
    "        all_search_results.extend(results)\n",
    "    except Exception:\n",
    "        break\n",
    "\n",
    "# deduplicate the list of search results\n",
    "indeed_jobs = dedupe_results(all_search_results, \"jobkey\")\n",
    "print(\"# jobs fetched =\", len(indeed_jobs))\n",
    "indeed_jobs[:1]"
   ]
  },
  {
   "cell_type": "code",
   "execution_count": 13,
   "metadata": {},
   "outputs": [],
   "source": [
    "save_jobs_to_disk(indeed_jobs, os.path.join(data_dir, \"indeed_jobs.json\"))"
   ]
  },
  {
   "cell_type": "markdown",
   "metadata": {},
   "source": [
    "#### The Muse API"
   ]
  },
  {
   "cell_type": "code",
   "execution_count": 14,
   "metadata": {},
   "outputs": [],
   "source": [
    "def search_themuse_jobs(*, category, location=None, limit=None):\n",
    "    \"\"\"\n",
    "    Args:\n",
    "        category (str): Job category to search.\n",
    "        location (str): Like \"New York, NY\".\n",
    "        limit (int)\n",
    "        \n",
    "    Returns:\n",
    "        List[dict]\n",
    "    \"\"\"\n",
    "    if category not in _CATEGORIES:\n",
    "        raise ValueError(\n",
    "            \"category={} is invalid; valid values are {}\".format(category, _CATEGORIES))\n",
    "    base_url = \"https://www.themuse.com/api/public/jobs\"\n",
    "    params = {\"category\": category}\n",
    "    if location:\n",
    "        params[\"location\"] = location\n",
    "    results = []\n",
    "    i = 0\n",
    "    while True:\n",
    "        page_params = params.copy()\n",
    "        page_params[\"page\"] = i\n",
    "        try:\n",
    "            response = requests.get(base_url, params=page_params)\n",
    "            response.raise_for_status()\n",
    "        except requests.RequestException as e:\n",
    "            print(e)\n",
    "            break\n",
    "        data = response.json()\n",
    "        page_results = data.get(\"results\", [])\n",
    "        results.extend(page_results)\n",
    "        i += 1\n",
    "        if len(page_results) < data[\"items_per_page\"]:\n",
    "            break\n",
    "        elif limit is not None and len(results) > limit:\n",
    "            break\n",
    "    if limit is not None:\n",
    "        return results[:limit]\n",
    "    else:\n",
    "        return results\n",
    "    \n",
    "    \n",
    "_CATEGORIES = {\n",
    "    \"Account Management\",\n",
    "    \"Business & Strategy\",\n",
    "    \"Creative & Design\",\n",
    "    \"Customer Service\",\n",
    "    \"Data Science\",\n",
    "    \"Editorial\",\n",
    "    \"Education\",\n",
    "    \"Engineering\",\n",
    "    \"Finance\",\n",
    "    \"Fundraising & Development\",\n",
    "    \"Healthcare & Medicine\",\n",
    "    \"HR & Recruiting\",\n",
    "    \"Legal\",\n",
    "    \"Marketing & PR\",\n",
    "    \"Operations\",\n",
    "    \"Project & Product Management\",\n",
    "    \"Retail\",\n",
    "    \"Sales\",\n",
    "    \"Social Media & Community\",\n",
    "}"
   ]
  },
  {
   "cell_type": "code",
   "execution_count": 15,
   "metadata": {},
   "outputs": [
    {
     "name": "stdout",
     "output_type": "stream",
     "text": [
      "(category, location) => ('Engineering', 'New York, NY')\n",
      "(category, location) => ('Engineering', 'Chicago, IL')\n",
      "(category, location) => ('Engineering', 'San Francisco, CA')\n",
      "(category, location) => ('Engineering', 'Seattle, WA')\n",
      "(category, location) => ('Data Science', 'New York, NY')\n",
      "(category, location) => ('Data Science', 'Chicago, IL')\n",
      "(category, location) => ('Data Science', 'San Francisco, CA')\n",
      "(category, location) => ('Data Science', 'Seattle, WA')\n",
      "# jobs fetched = 370\n"
     ]
    },
    {
     "data": {
      "text/plain": [
       "[{'contents': \"<p>Bread has a small, talented and driven engineering team. We have difficult problems to solve up and down the stack, from providing a seamless user experience that works on hundreds of merchants' websites in the most critical part of their flow, to making real time credit decisions to scaling to support millions of dollars in transactions per day in a system that is being used around the clock.</p>\\n\\n<p>We are looking for a Staff Engineer to join our team. This engineer will be a direct partner to the Senior Director of Engineering and CTO and will guide the technical approach and strategy of Bread's engineering team.</p>\\n\\n<p><strong>Things you'll do:</strong></p>\\n\\n<ul>\\n<li>Mentor and be a resource for every member of the team</li>\\n<li>Write code</li>\\n<li>Review and curate all aspects of our technical architecture and approach, from the code base to the database, to infrastructure, to our development process</li>\\n<li>Be involved in all significant technical decisions</li>\\n<li>Develop a strategy for scaling Bread's platform to support billions of dollars in transactions</li>\\n<li>Write tools and introduce approaches and frameworks that will ensure the team continues to get faster over time</li>\\n</ul>\\n\\n<p><strong>You have:</strong></p>\\n\\n<ul>\\n<li>Something to offer every member of the team and a passion for sharing and collaboration. You're happiest when you're in front of a whiteboard working out a problem with your colleagues.</li>\\n<li>Expertise building scalable, reliable distributed systems</li>\\n<li>Expert knowledge of server-side languages and data stores (our system is built with Go and PostgreSQL, but we’re also happy to speak with those that have strong backend experience with other languages, including JVM languages like Java or Scala; Python; or C++)</li>\\n<li>Experience with cloud deployments (we use AWS)</li>\\n<li>Experience with public web APIs</li>\\n<li>A passion for the craft of engineering</li>\\n</ul>\\n\\n<p>\\xa0</p>\",\n",
       "  'name': 'Staff Software Engineer',\n",
       "  'type': 'external',\n",
       "  'publication_date': '2019-06-19T08:04:47.757805Z',\n",
       "  'short_name': 'staff-software-engineer',\n",
       "  'model_type': 'jobs',\n",
       "  'id': 1907581,\n",
       "  'locations': [{'name': 'New York, NY'}],\n",
       "  'categories': [{'name': 'Engineering'}],\n",
       "  'levels': [],\n",
       "  'tags': [],\n",
       "  'refs': {'landing_page': 'https://www.themuse.com/jobs/bread/staff-software-engineer'},\n",
       "  'company': {'id': 11672, 'short_name': 'bread', 'name': 'Bread'}}]"
      ]
     },
     "execution_count": 15,
     "metadata": {},
     "output_type": "execute_result"
    }
   ],
   "source": [
    "all_search_results = []    \n",
    "for category, location in itertools.product(category_queries, locations):\n",
    "    print(\"(category, location) =>\", (category, location))\n",
    "    try:\n",
    "        results = search_themuse_jobs(category=category, location=location, limit=100)\n",
    "        all_search_results.extend(results)\n",
    "    except Exception:\n",
    "        break\n",
    "\n",
    "# deduplicate the list of search results\n",
    "themuse_jobs = dedupe_results(all_search_results, \"id\")\n",
    "print(\"# jobs fetched =\", len(themuse_jobs))\n",
    "themuse_jobs[:1]"
   ]
  },
  {
   "cell_type": "code",
   "execution_count": 16,
   "metadata": {},
   "outputs": [],
   "source": [
    "save_jobs_to_disk(themuse_jobs, os.path.join(data_dir, \"themuse_jobs.json\"))"
   ]
  },
  {
   "cell_type": "markdown",
   "metadata": {},
   "source": [
    "#### combined dataset\n",
    "\n",
    "(assuming no duplicates across sources)"
   ]
  },
  {
   "cell_type": "code",
   "execution_count": 17,
   "metadata": {},
   "outputs": [
    {
     "name": "stdout",
     "output_type": "stream",
     "text": [
      "total # of jobs fetched =  2133\n"
     ]
    }
   ],
   "source": [
    "print(\"total # of jobs fetched = \", len(github_jobs + indeed_jobs + themuse_jobs))"
   ]
  },
  {
   "cell_type": "markdown",
   "metadata": {},
   "source": [
    "### Getting Started"
   ]
  },
  {
   "cell_type": "code",
   "execution_count": 18,
   "metadata": {},
   "outputs": [],
   "source": [
    "import os\n",
    "\n",
    "import missingno as msno\n",
    "import pandas as pd"
   ]
  },
  {
   "cell_type": "code",
   "execution_count": 19,
   "metadata": {},
   "outputs": [],
   "source": [
    "%matplotlib inline"
   ]
  },
  {
   "cell_type": "code",
   "execution_count": 20,
   "metadata": {},
   "outputs": [
    {
     "name": "stdout",
     "output_type": "stream",
     "text": [
      "json      2.0.9\n",
      "pandas    0.25.1\n",
      "requests  2.22.0\n",
      "missingno 0.4.2\n",
      "CPython 3.7.4\n",
      "IPython 7.8.0\n"
     ]
    }
   ],
   "source": [
    "%watermark -v -iv"
   ]
  },
  {
   "cell_type": "code",
   "execution_count": 21,
   "metadata": {},
   "outputs": [],
   "source": [
    "def load_dataset(filepath):\n",
    "    \"\"\"\n",
    "    Args:\n",
    "        filepath (str)\n",
    "    \n",
    "    Returns:\n",
    "        :class:`pd.DataFrame`\n",
    "    \"\"\"\n",
    "    # almost too easy :)\n",
    "    return pd.read_json(filepath)\n",
    "\n",
    "\n",
    "def inspect_dataset(dataset):\n",
    "    \"\"\"\n",
    "    Args:\n",
    "        dataset (:class:`pd.DataFrame`)\n",
    "    \"\"\"\n",
    "    print(\"shape:\", dataset.shape)\n",
    "    print(\"columns:\", \", \".join(dataset.columns))\n",
    "    try:\n",
    "        print(df_github.describe(include=\"number\"))\n",
    "    except ValueError:\n",
    "        print(\"(no numeric columns to describe)\")\n",
    "    try:\n",
    "        print(df_github.describe(exclude=\"number\"))\n",
    "    except ValueError:\n",
    "        print(\"(no non-numeric columns to describe)\")"
   ]
  },
  {
   "cell_type": "code",
   "execution_count": 22,
   "metadata": {},
   "outputs": [],
   "source": [
    "data_dir = \"/Users/burtondewilde/Desktop/datakind/bloc/msvdd_Bloc/data/postings\""
   ]
  },
  {
   "cell_type": "code",
   "execution_count": 23,
   "metadata": {},
   "outputs": [
    {
     "name": "stdout",
     "output_type": "stream",
     "text": [
      "shape: (42, 11)\n",
      "columns: id, type, url, created_at, company, company_url, location, title, description, how_to_apply, company_logo\n",
      "(no numeric columns to describe)\n",
      "                                          id       type  \\\n",
      "count                                     42         42   \n",
      "unique                                    42          1   \n",
      "top     1ee011f0-dcbf-11e8-8f6b-cc4dc5b4578d  Full Time   \n",
      "freq                                       1         42   \n",
      "first                                    NaN        NaN   \n",
      "last                                     NaN        NaN   \n",
      "\n",
      "                                                      url  \\\n",
      "count                                                  42   \n",
      "unique                                                 42   \n",
      "top     https://jobs.github.com/positions/9ecfe037-40c...   \n",
      "freq                                                    1   \n",
      "first                                                 NaN   \n",
      "last                                                  NaN   \n",
      "\n",
      "                       created_at       company               company_url  \\\n",
      "count                          42            42                        36   \n",
      "unique                         42            38                        34   \n",
      "top     2018-11-09 16:54:38+00:00  Constructive  https://wearekettle.com/   \n",
      "freq                            1             2                         2   \n",
      "first   2018-10-22 15:56:13+00:00           NaN                       NaN   \n",
      "last    2019-09-24 17:13:39+00:00           NaN                       NaN   \n",
      "\n",
      "            location              title  \\\n",
      "count             42                 42   \n",
      "unique            33                 39   \n",
      "top     New York, NY  Software Engineer   \n",
      "freq               6                  2   \n",
      "first            NaN                NaN   \n",
      "last             NaN                NaN   \n",
      "\n",
      "                                              description  \\\n",
      "count                                                  42   \n",
      "unique                                                 41   \n",
      "top     <p>About NinthDecimal:</p>\\n<p>NinthDecimal is...   \n",
      "freq                                                    2   \n",
      "first                                                 NaN   \n",
      "last                                                  NaN   \n",
      "\n",
      "                                             how_to_apply  \\\n",
      "count                                                  42   \n",
      "unique                                                 42   \n",
      "top     <p><a href=\"https://ars2.equest.com/?response_...   \n",
      "freq                                                    1   \n",
      "first                                                 NaN   \n",
      "last                                                  NaN   \n",
      "\n",
      "                                             company_logo  \n",
      "count                                                  33  \n",
      "unique                                                 33  \n",
      "top     https://jobs.github.com/rails/active_storage/b...  \n",
      "freq                                                    1  \n",
      "first                                                 NaN  \n",
      "last                                                  NaN  \n"
     ]
    },
    {
     "data": {
      "image/png": "[encoded data removed]",
      "text/plain": [
       "<Figure size 1800x720 with 2 Axes>"
      ]
     },
     "metadata": {
      "needs_background": "light"
     },
     "output_type": "display_data"
    }
   ],
   "source": [
    "df_github = load_dataset(os.path.join(data_dir, \"github_jobs.json\"))\n",
    "inspect_dataset(df_github)\n",
    "_ = msno.matrix(df_github)"
   ]
  },
  {
   "cell_type": "code",
   "execution_count": 24,
   "metadata": {},
   "outputs": [
    {
     "name": "stdout",
     "output_type": "stream",
     "text": [
      "shape: (1721, 22)\n",
      "columns: jobtitle, company, city, state, country, language, formattedLocation, source, date, snippet, url, onmousedown, latitude, longitude, jobkey, sponsored, expired, indeedApply, formattedLocationFull, formattedRelativeTime, stations, recommendations\n",
      "(no numeric columns to describe)\n",
      "                                          id       type  \\\n",
      "count                                     42         42   \n",
      "unique                                    42          1   \n",
      "top     1ee011f0-dcbf-11e8-8f6b-cc4dc5b4578d  Full Time   \n",
      "freq                                       1         42   \n",
      "first                                    NaN        NaN   \n",
      "last                                     NaN        NaN   \n",
      "\n",
      "                                                      url  \\\n",
      "count                                                  42   \n",
      "unique                                                 42   \n",
      "top     https://jobs.github.com/positions/9ecfe037-40c...   \n",
      "freq                                                    1   \n",
      "first                                                 NaN   \n",
      "last                                                  NaN   \n",
      "\n",
      "                       created_at       company               company_url  \\\n",
      "count                          42            42                        36   \n",
      "unique                         42            38                        34   \n",
      "top     2018-11-09 16:54:38+00:00  Constructive  https://wearekettle.com/   \n",
      "freq                            1             2                         2   \n",
      "first   2018-10-22 15:56:13+00:00           NaN                       NaN   \n",
      "last    2019-09-24 17:13:39+00:00           NaN                       NaN   \n",
      "\n",
      "            location              title  \\\n",
      "count             42                 42   \n",
      "unique            33                 39   \n",
      "top     New York, NY  Software Engineer   \n",
      "freq               6                  2   \n",
      "first            NaN                NaN   \n",
      "last             NaN                NaN   \n",
      "\n",
      "                                              description  \\\n",
      "count                                                  42   \n",
      "unique                                                 41   \n",
      "top     <p>About NinthDecimal:</p>\\n<p>NinthDecimal is...   \n",
      "freq                                                    2   \n",
      "first                                                 NaN   \n",
      "last                                                  NaN   \n",
      "\n",
      "                                             how_to_apply  \\\n",
      "count                                                  42   \n",
      "unique                                                 42   \n",
      "top     <p><a href=\"https://ars2.equest.com/?response_...   \n",
      "freq                                                    1   \n",
      "first                                                 NaN   \n",
      "last                                                  NaN   \n",
      "\n",
      "                                             company_logo  \n",
      "count                                                  33  \n",
      "unique                                                 33  \n",
      "top     https://jobs.github.com/rails/active_storage/b...  \n",
      "freq                                                    1  \n",
      "first                                                 NaN  \n",
      "last                                                  NaN  \n"
     ]
    },
    {
     "data": {
      "image/png": "[encoded data removed]",
      "text/plain": [
       "<Figure size 1800x720 with 2 Axes>"
      ]
     },
     "metadata": {
      "needs_background": "light"
     },
     "output_type": "display_data"
    }
   ],
   "source": [
    "df_indeed = load_dataset(os.path.join(data_dir, \"indeed_jobs.json\"))\n",
    "inspect_dataset(df_indeed)\n",
    "_ = msno.matrix(df_indeed)"
   ]
  },
  {
   "cell_type": "code",
   "execution_count": 25,
   "metadata": {},
   "outputs": [
    {
     "name": "stdout",
     "output_type": "stream",
     "text": [
      "shape: (370, 13)\n",
      "columns: contents, name, type, publication_date, short_name, model_type, id, locations, categories, levels, tags, refs, company\n",
      "(no numeric columns to describe)\n",
      "                                          id       type  \\\n",
      "count                                     42         42   \n",
      "unique                                    42          1   \n",
      "top     1ee011f0-dcbf-11e8-8f6b-cc4dc5b4578d  Full Time   \n",
      "freq                                       1         42   \n",
      "first                                    NaN        NaN   \n",
      "last                                     NaN        NaN   \n",
      "\n",
      "                                                      url  \\\n",
      "count                                                  42   \n",
      "unique                                                 42   \n",
      "top     https://jobs.github.com/positions/9ecfe037-40c...   \n",
      "freq                                                    1   \n",
      "first                                                 NaN   \n",
      "last                                                  NaN   \n",
      "\n",
      "                       created_at       company               company_url  \\\n",
      "count                          42            42                        36   \n",
      "unique                         42            38                        34   \n",
      "top     2018-11-09 16:54:38+00:00  Constructive  https://wearekettle.com/   \n",
      "freq                            1             2                         2   \n",
      "first   2018-10-22 15:56:13+00:00           NaN                       NaN   \n",
      "last    2019-09-24 17:13:39+00:00           NaN                       NaN   \n",
      "\n",
      "            location              title  \\\n",
      "count             42                 42   \n",
      "unique            33                 39   \n",
      "top     New York, NY  Software Engineer   \n",
      "freq               6                  2   \n",
      "first            NaN                NaN   \n",
      "last             NaN                NaN   \n",
      "\n",
      "                                              description  \\\n",
      "count                                                  42   \n",
      "unique                                                 41   \n",
      "top     <p>About NinthDecimal:</p>\\n<p>NinthDecimal is...   \n",
      "freq                                                    2   \n",
      "first                                                 NaN   \n",
      "last                                                  NaN   \n",
      "\n",
      "                                             how_to_apply  \\\n",
      "count                                                  42   \n",
      "unique                                                 42   \n",
      "top     <p><a href=\"https://ars2.equest.com/?response_...   \n",
      "freq                                                    1   \n",
      "first                                                 NaN   \n",
      "last                                                  NaN   \n",
      "\n",
      "                                             company_logo  \n",
      "count                                                  33  \n",
      "unique                                                 33  \n",
      "top     https://jobs.github.com/rails/active_storage/b...  \n",
      "freq                                                    1  \n",
      "first                                                 NaN  \n",
      "last                                                  NaN  \n"
     ]
    },
    {
     "data": {
      "image/png": "[encoded data removed]",
      "text/plain": [
       "<Figure size 1800x720 with 2 Axes>"
      ]
     },
     "metadata": {
      "needs_background": "light"
     },
     "output_type": "display_data"
    }
   ],
   "source": [
    "df_themuse = load_dataset(os.path.join(data_dir, \"themuse_jobs.json\"))\n",
    "inspect_dataset(df_themuse)\n",
    "_ = msno.matrix(df_themuse)"
   ]
  },
  {
   "cell_type": "code",
   "execution_count": null,
   "metadata": {},
   "outputs": [],
   "source": []
  }
 ],
 "metadata": {
  "kernelspec": {
   "display_name": "Python 3",
   "language": "python",
   "name": "python3"
  },
  "language_info": {
   "codemirror_mode": {
    "name": "ipython",
    "version": 3
   },
   "file_extension": ".py",
   "mimetype": "text/x-python",
   "name": "python",
   "nbconvert_exporter": "python",
   "pygments_lexer": "ipython3",
   "version": "3.7.4"
  }
 },
 "nbformat": 4,
 "nbformat_minor": 4
}
