{
 "cells": [
  {
   "cell_type": "code",
   "execution_count": 1,
   "metadata": {},
   "outputs": [],
   "source": [
    "import re\n",
    "import json"
   ]
  },
  {
   "cell_type": "code",
   "execution_count": 2,
   "metadata": {},
   "outputs": [],
   "source": [
    "from os import listdir\n",
    "from os.path import isfile, join"
   ]
  },
  {
   "cell_type": "code",
   "execution_count": 3,
   "metadata": {},
   "outputs": [],
   "source": [
    "\"\"\" Read json format for resumes\"\"\"\n",
    "\n",
    "json_format = r'C:\\Users\\drint\\Documents\\Projects\\DataKind Bloc\\Jupyter Notebooks\\resume.json'\n",
    "\n",
    "with open(json_format) as json_file:\n",
    "    \n",
    "    json = json.load(json_file)"
   ]
  },
  {
   "cell_type": "code",
   "execution_count": 4,
   "metadata": {},
   "outputs": [
    {
     "data": {
      "text/plain": [
       "dict_keys(['basics', 'work', 'volunteer', 'education', 'awards', 'publications', 'skills', 'languages', 'interests', 'references'])"
      ]
     },
     "execution_count": 4,
     "metadata": {},
     "output_type": "execute_result"
    }
   ],
   "source": [
    "json.keys()"
   ]
  },
  {
   "cell_type": "code",
   "execution_count": 5,
   "metadata": {},
   "outputs": [],
   "source": [
    "\"\"\" Read in all file names \"\"\"\n",
    "\n",
    "path = r'C:\\Users\\drint\\Documents\\Projects\\DataKind Bloc\\Jupyter Notebooks\\Resumes'\n",
    "\n",
    "files = [f for f in listdir(path) if isfile(join(path, f))]"
   ]
  },
  {
   "cell_type": "code",
   "execution_count": 6,
   "metadata": {},
   "outputs": [],
   "source": [
    "\"\"\" Read in all resumes \"\"\"\n",
    "\n",
    "all_resumes = list()\n",
    "\n",
    "for file in files:\n",
    "    \n",
    "    resume = list()\n",
    "    \n",
    "    try:\n",
    "        \n",
    "        with open(join(path, file), 'r') as f:\n",
    "        \n",
    "            resume += f.readlines()\n",
    "            \n",
    "    except Exception as e:\n",
    "        \n",
    "        #print ('Error {} occurred'.format(e))\n",
    "        pass\n",
    "    \n",
    "    all_resumes.append(resume)"
   ]
  },
  {
   "cell_type": "code",
   "execution_count": 1,
   "metadata": {},
   "outputs": [],
   "source": [
    "# all_resumes"
   ]
  },
  {
   "cell_type": "code",
   "execution_count": 8,
   "metadata": {},
   "outputs": [],
   "source": [
    "\"\"\" Pick out one resume to build parsing logic \"\"\"\n",
    "\n",
    "resume = all_resumes[99]"
   ]
  },
  {
   "cell_type": "code",
   "execution_count": 9,
   "metadata": {},
   "outputs": [
    {
     "data": {
      "text/plain": [
       "['Rachel Shaw\\n',\n",
       " '**** ******** **\\n',\n",
       " 'Valley Stream, New York 11580\\n',\n",
       " '516-***-****\\n',\n",
       " 'ronald57@gmail.com\\n',\n",
       " '\\n',\n",
       " 'EDUCATION AND TRAINING\\n',\n",
       " 'BS, Finance, 1990, Norfolk State University, Norfolk, VA\\n',\n",
       " 'Project Management Certification Program, 2015, Stony Brook University, Stony Brook, NY\\n',\n",
       " 'SUMMARY\\n',\n",
       " 'Highly accomplished Human Resource/Operations/Project Management professional with proven success in the Private Sector, Pharmaceutical and the Healthcare industry. Providing innovative solutions/ideas that enhance efficiency and produce revenue opportunities for an organization. Adroit at improving healthcare projects in addition to providing consultative services for healthcare systems. Visionary leader with a strong focus on the organizational mission. Superior communication skills, easily interacts with executives, clients, vendors, and staff. Adeptly applies excellent public speaking, leadership, training and communication skills that produce positive results that have exceeded corporateexpectation. Developed successful partnerships between the pharmaceutical and the sports world in an effort to solve the opioid abuse problem. Acts as a Consultant for organizations in need of new innovations. Formerly a Senior Annuity Analyst who routinely preformed Risk Management, Risk Assessment in the insurance industry.\\n',\n",
       " 'HIGHLIGHTS\\n',\n",
       " 'Developed successful Sports Wellness Initiative between the pharmaceutical compounding company and the sports world to help combat the opioid problem amongst athletes at all levels.\\n',\n",
       " \"Presented our Sports Wellness Initiative program at the NATA Convention (National Athletic Trainer's Association, Circle of Sisters and several other conferences.\\n\",\n",
       " \"Negotiated a contract with the NBRPA to provide education, training and pain management to the retired player's union members.\\n\",\n",
       " \"Recruited several National Basketball Association and Women National Basketball Association to become spokespeople for the company's services.\\n\",\n",
       " 'Acts as a Healthcare Management systems Consultant.\\n',\n",
       " \"Wrote government grants for fifty thousand dollars for the purpose of training for the company's technical staff.\\n\",\n",
       " 'Able to improve revenue collection significantly within the first six months of employment.\\n',\n",
       " 'Provided additional stream of income for HALDEY Pharmaceutical Compounding.\\n',\n",
       " 'Improved revenue collection from 69% to 92% in first month.\\n',\n",
       " 'Improved customer service rating by 40%.\\n',\n",
       " \"Spearheaded the redesign and planning of the build out process for the department's waiting offices and storage area.\\n\",\n",
       " 'Received a rating of 98% out of 100 in the Joint Commission certification Rounds for the department of special surgery.\\n',\n",
       " 'WORK HISTORY\\n',\n",
       " 'Charter Communications (Spectrum), Woodside, NY\\n',\n",
       " 'Direct Sales, Present\\n',\n",
       " 'â€¢ Utilization of communication skills to build relationships with prospective Spectrum Business customers.\\n',\n",
       " 'â€¢ Plan, implement, and manage individual marketing and sales plans for New York neighborhoods.\\n',\n",
       " 'â€¢ Utilize human relations and negotiation skills to market and sell home Spectrum cable, home internet, and home telephone services.\\n',\n",
       " 'â€¢ Responsible for identifying client needs while researching ways to improve the quality of their services.\\n',\n",
       " 'â€¢ Effective at finding cost saving options for new customers, often reducing their costs by as much as 50%.\\n',\n",
       " '\\n',\n",
       " 'HALDEY Pharmaceutical Compounding, Bronx, NY\\n',\n",
       " 'Human Resource Manager/Project Manager/Operations 2015-2017\\n',\n",
       " 'â€¢ Managed the day to day operations of a multimillion dollar national compounding pharmacy.\\n',\n",
       " 'â€¢ Developed a lucrative Sports Wellness Initiative by connecting the organization to current and former athletes in each of the major sports.\\n',\n",
       " \"â€¢ Spearheaded and negotiated a partnership with the (NBRPA) National Basketball Retired Player's Association to provide pain management medications for retired and current players.\\n\",\n",
       " 'Traveled extensively in support of the Sports Initiative.\\n',\n",
       " 'â€¢ Accomplished Full Cycle Human Resource objectives for the organization.\\n',\n",
       " 'â€¢ Achieved operational objectives by contributing information and recommendations to strategic plans and reviews.\\n',\n",
       " 'â€¢ Met financial objectives by forecasting requirements; prepared annual budget utilizing forecasting; scheduling expenditures; analyzing variances; initiating corrective actions.\\n',\n",
       " 'â€¢ Developed organizational mission statement, strategy and marketing materials.\\n',\n",
       " 'â€¢ Coordinated internal resources and third parties/vendors for the flawless execution of projects.\\n',\n",
       " 'â€¢ Ensured that all projects are delivered on-time, within scope and within budget.\\n',\n",
       " \"â€¢ Developed project's scope and objectives, involving all relevant stakeholders and ensuring technical feasibility.\\n\",\n",
       " 'Telecommuted while preforming the project management duties.\\n',\n",
       " '\\n',\n",
       " 'RENOVATION MEDICAL & SURGICAL SUPPLIES, New York, NY\\n',\n",
       " 'Specialty Human Resource/Sales Consultant`2014-2015\\n',\n",
       " 'Staffed organization with qualified sales force.\\n',\n",
       " 'â€¢ Marketed and sold approximately 1000 bracing products and traction supplies to medical centers in the New York market.\\n',\n",
       " 'â€¢ Developed Physicians relationships to expand territory growth; serviced and managed seven primary hospital accounts; provided on-site product expertise and consultation to orthopedic physicians while in the medical office.\\n',\n",
       " 'â€¢ Produced over $100,000 in new business under Sales Leadership.\\n',\n",
       " \"â€¢Provided patient education on complicated issues such as worker's compensation and no-fault laws.\\n\",\n",
       " 'â€¢ Quality Followed-up phone calls to patients to ensure they were using the equipment properly.\\n',\n",
       " 'Telecommuted as the central office for Renovation Medical was located in another part of the state.\\n',\n",
       " '\\n',\n",
       " 'BETH ISRAEL AT MOUNT SINAI HOSPITAL SYSTEM, New York, NY\\n',\n",
       " 'Practice Administrator of General/Vascular/Bariatric/Thoracic/Colorectal/Proctology/\\n',\n",
       " 'Pediatric/Podiatry Special Surgery (Outpatient) Department. 2010-2015\\n',\n",
       " 'â€¢ Utilized various hospital systems such as Eagle, IDX, Outlook, Oracle, ECW and MDe, for outpatient surgery coding, scheduling of appointments, surgeries, including pre and post-operative testing, authorizations, insurance verifications and pre-certification for procedures, collection of co-payments and keeping track of no shows.\\n',\n",
       " \"â€¢Implemented and monitored the Special Surgery's annual budget, including medical and office operating expenses, purchase orders, capital budget, annual bonuses and salaries.\\n\",\n",
       " 'â€¢ Worked closely with head administrators, as well as facility administrators on planning the direction of the Special Surgery Department: organized/scheduled meetings, managed extensive calendars, hospital privileges, credentialing and professional memberships.\\n',\n",
       " 'â€¢ Directed project for the designs for renovations for new Department of Special Surgery outpatient office and waiting area, including physical office setup, recruitment of front staff for project and negotiating and hiring vendors for new medical and office equipment.\\n',\n",
       " 'â€¢ Conducted annual and semi-annual performance evaluations using I-performance Evaluation System in conjunction with the Director of the Department of Special Surgery.\\n',\n",
       " 'â€¢ Ensured regulatory compliance according to Federal guidelines including, HIPAA, OSHA, the Department of Health, the Joint Commission and CMS.\\n',\n",
       " 'â€¢ Responsible for Procurement, physician reimbursements, A/P and A/R.\\n',\n",
       " 'â€¢ Approved payroll and PTO balance for all departmental employees.\\n',\n",
       " 'â€¢ Oversaw and processed all medical billing and coding.\\n',\n",
       " 'â€¢ Hired and supervised all office personnel.\\n',\n",
       " 'Preformed all HR functions for the Department of Special Surgery.\\n',\n",
       " 'Provided health advocacy for patients in need.\\n',\n",
       " 'Used HEDIS and Risk Adjustment.\\n',\n",
       " '\\n',\n",
       " 'LICENSURE, TRAINING, CERTIFICATES, AWARDS\\n',\n",
       " 'â€¢ Received the \"Caught being Great\" exceptional service award, BETH ISRAEL Hospital 2014\\n',\n",
       " 'â€¢ CPR and First Aid certification\\n',\n",
       " 'Training on all EMR and EHR systems including EClinicalworks\\n',\n",
       " \"â€¢ Diversity trained professional at Columbia Teacher's College\\n\",\n",
       " 'MS Office, Word, Excel, PowerPoint, Outlook proficient, ADP, Oracle, Bamboo HRIS\\n']"
      ]
     },
     "execution_count": 9,
     "metadata": {},
     "output_type": "execute_result"
    }
   ],
   "source": [
    "resume"
   ]
  },
  {
   "cell_type": "code",
   "execution_count": 46,
   "metadata": {},
   "outputs": [],
   "source": [
    "class Resume():\n",
    "    \n",
    "    def __init__(self, name):\n",
    "        \n",
    "        sections = [str.upper(x) for x in json.keys()]\n",
    "        sections.extend(['CONTACT', 'SUMMARY', 'TRAINING']) # Extended dictionary of section headers\n",
    "        \n",
    "        \"\"\" get name from first line \"\"\"\n",
    "\n",
    "        # BASICS\n",
    "        \n",
    "        self.name = name[0]\n",
    "        \n",
    "        # WORK, VOLUNTEER, EDUCATION, SKILLS, LANGUAGES, INTERESTS\n",
    "        \n",
    "        \"\"\" look for keyword categories and build data dictionary with each subsequent line \"\"\"\n",
    "        \n",
    "        data = dict()\n",
    "        \n",
    "        line = 0\n",
    "        \n",
    "        while line < len(resume):\n",
    "\n",
    "            tokens = resume[line].split()\n",
    "    \n",
    "            section_header = [token for token in tokens if token in sections] \n",
    "        \n",
    "            if section_header: # if it's a section header, start capture\n",
    "                \n",
    "                lines = []\n",
    "                \n",
    "                line += 1\n",
    "                \n",
    "                while line < len(resume):\n",
    "                    \n",
    "                    tokens = resume[line].split()\n",
    "                \n",
    "                    section_header = [token for token in tokens if token in sections]\n",
    "                    \n",
    "                    if section_header: # keep going until next section header is reached\n",
    "                        break\n",
    "                        \n",
    "                    lines.append(resume[line])\n",
    "                    \n",
    "                    line += 1\n",
    "                    \n",
    "                data[section_header[0]] = lines # put all sections into data attribute in resume class\n",
    "                    \n",
    "            line += 1\n",
    "            \n",
    "        self.data = data\n",
    "                    \n",
    "        \"\"\" parse each category into nouns \"\"\""
   ]
  },
  {
   "cell_type": "code",
   "execution_count": 47,
   "metadata": {},
   "outputs": [],
   "source": [
    "r1 = Resume(resume)"
   ]
  },
  {
   "cell_type": "code",
   "execution_count": 48,
   "metadata": {},
   "outputs": [
    {
     "data": {
      "text/plain": [
       "{'SUMMARY': ['BS, Finance, 1990, Norfolk State University, Norfolk, VA\\n',\n",
       "  'Project Management Certification Program, 2015, Stony Brook University, Stony Brook, NY\\n'],\n",
       " 'AWARDS': ['Charter Communications (Spectrum), Woodside, NY\\n',\n",
       "  'Direct Sales, Present\\n',\n",
       "  'â€¢ Utilization of communication skills to build relationships with prospective Spectrum Business customers.\\n',\n",
       "  'â€¢ Plan, implement, and manage individual marketing and sales plans for New York neighborhoods.\\n',\n",
       "  'â€¢ Utilize human relations and negotiation skills to market and sell home Spectrum cable, home internet, and home telephone services.\\n',\n",
       "  'â€¢ Responsible for identifying client needs while researching ways to improve the quality of their services.\\n',\n",
       "  'â€¢ Effective at finding cost saving options for new customers, often reducing their costs by as much as 50%.\\n',\n",
       "  '\\n',\n",
       "  'HALDEY Pharmaceutical Compounding, Bronx, NY\\n',\n",
       "  'Human Resource Manager/Project Manager/Operations 2015-2017\\n',\n",
       "  'â€¢ Managed the day to day operations of a multimillion dollar national compounding pharmacy.\\n',\n",
       "  'â€¢ Developed a lucrative Sports Wellness Initiative by connecting the organization to current and former athletes in each of the major sports.\\n',\n",
       "  \"â€¢ Spearheaded and negotiated a partnership with the (NBRPA) National Basketball Retired Player's Association to provide pain management medications for retired and current players.\\n\",\n",
       "  'Traveled extensively in support of the Sports Initiative.\\n',\n",
       "  'â€¢ Accomplished Full Cycle Human Resource objectives for the organization.\\n',\n",
       "  'â€¢ Achieved operational objectives by contributing information and recommendations to strategic plans and reviews.\\n',\n",
       "  'â€¢ Met financial objectives by forecasting requirements; prepared annual budget utilizing forecasting; scheduling expenditures; analyzing variances; initiating corrective actions.\\n',\n",
       "  'â€¢ Developed organizational mission statement, strategy and marketing materials.\\n',\n",
       "  'â€¢ Coordinated internal resources and third parties/vendors for the flawless execution of projects.\\n',\n",
       "  'â€¢ Ensured that all projects are delivered on-time, within scope and within budget.\\n',\n",
       "  \"â€¢ Developed project's scope and objectives, involving all relevant stakeholders and ensuring technical feasibility.\\n\",\n",
       "  'Telecommuted while preforming the project management duties.\\n',\n",
       "  '\\n',\n",
       "  'RENOVATION MEDICAL & SURGICAL SUPPLIES, New York, NY\\n',\n",
       "  'Specialty Human Resource/Sales Consultant`2014-2015\\n',\n",
       "  'Staffed organization with qualified sales force.\\n',\n",
       "  'â€¢ Marketed and sold approximately 1000 bracing products and traction supplies to medical centers in the New York market.\\n',\n",
       "  'â€¢ Developed Physicians relationships to expand territory growth; serviced and managed seven primary hospital accounts; provided on-site product expertise and consultation to orthopedic physicians while in the medical office.\\n',\n",
       "  'â€¢ Produced over $100,000 in new business under Sales Leadership.\\n',\n",
       "  \"â€¢Provided patient education on complicated issues such as worker's compensation and no-fault laws.\\n\",\n",
       "  'â€¢ Quality Followed-up phone calls to patients to ensure they were using the equipment properly.\\n',\n",
       "  'Telecommuted as the central office for Renovation Medical was located in another part of the state.\\n',\n",
       "  '\\n',\n",
       "  'BETH ISRAEL AT MOUNT SINAI HOSPITAL SYSTEM, New York, NY\\n',\n",
       "  'Practice Administrator of General/Vascular/Bariatric/Thoracic/Colorectal/Proctology/\\n',\n",
       "  'Pediatric/Podiatry Special Surgery (Outpatient) Department. 2010-2015\\n',\n",
       "  'â€¢ Utilized various hospital systems such as Eagle, IDX, Outlook, Oracle, ECW and MDe, for outpatient surgery coding, scheduling of appointments, surgeries, including pre and post-operative testing, authorizations, insurance verifications and pre-certification for procedures, collection of co-payments and keeping track of no shows.\\n',\n",
       "  \"â€¢Implemented and monitored the Special Surgery's annual budget, including medical and office operating expenses, purchase orders, capital budget, annual bonuses and salaries.\\n\",\n",
       "  'â€¢ Worked closely with head administrators, as well as facility administrators on planning the direction of the Special Surgery Department: organized/scheduled meetings, managed extensive calendars, hospital privileges, credentialing and professional memberships.\\n',\n",
       "  'â€¢ Directed project for the designs for renovations for new Department of Special Surgery outpatient office and waiting area, including physical office setup, recruitment of front staff for project and negotiating and hiring vendors for new medical and office equipment.\\n',\n",
       "  'â€¢ Conducted annual and semi-annual performance evaluations using I-performance Evaluation System in conjunction with the Director of the Department of Special Surgery.\\n',\n",
       "  'â€¢ Ensured regulatory compliance according to Federal guidelines including, HIPAA, OSHA, the Department of Health, the Joint Commission and CMS.\\n',\n",
       "  'â€¢ Responsible for Procurement, physician reimbursements, A/P and A/R.\\n',\n",
       "  'â€¢ Approved payroll and PTO balance for all departmental employees.\\n',\n",
       "  'â€¢ Oversaw and processed all medical billing and coding.\\n',\n",
       "  'â€¢ Hired and supervised all office personnel.\\n',\n",
       "  'Preformed all HR functions for the Department of Special Surgery.\\n',\n",
       "  'Provided health advocacy for patients in need.\\n',\n",
       "  'Used HEDIS and Risk Adjustment.\\n',\n",
       "  '\\n']}"
      ]
     },
     "execution_count": 48,
     "metadata": {},
     "output_type": "execute_result"
    }
   ],
   "source": [
    "r1.data"
   ]
  },
  {
   "cell_type": "code",
   "execution_count": 16,
   "metadata": {},
   "outputs": [
    {
     "data": {
      "text/plain": [
       "['Rachel Shaw\\n',\n",
       " '**** ******** **\\n',\n",
       " 'Valley Stream, New York 11580\\n',\n",
       " '516-***-****\\n',\n",
       " 'ronald57@gmail.com\\n',\n",
       " '\\n',\n",
       " 'EDUCATION AND TRAINING\\n',\n",
       " 'BS, Finance, 1990, Norfolk State University, Norfolk, VA\\n',\n",
       " 'Project Management Certification Program, 2015, Stony Brook University, Stony Brook, NY\\n',\n",
       " 'SUMMARY\\n',\n",
       " 'Highly accomplished Human Resource/Operations/Project Management professional with proven success in the Private Sector, Pharmaceutical and the Healthcare industry. Providing innovative solutions/ideas that enhance efficiency and produce revenue opportunities for an organization. Adroit at improving healthcare projects in addition to providing consultative services for healthcare systems. Visionary leader with a strong focus on the organizational mission. Superior communication skills, easily interacts with executives, clients, vendors, and staff. Adeptly applies excellent public speaking, leadership, training and communication skills that produce positive results that have exceeded corporateexpectation. Developed successful partnerships between the pharmaceutical and the sports world in an effort to solve the opioid abuse problem. Acts as a Consultant for organizations in need of new innovations. Formerly a Senior Annuity Analyst who routinely preformed Risk Management, Risk Assessment in the insurance industry.\\n',\n",
       " 'HIGHLIGHTS\\n',\n",
       " 'Developed successful Sports Wellness Initiative between the pharmaceutical compounding company and the sports world to help combat the opioid problem amongst athletes at all levels.\\n',\n",
       " \"Presented our Sports Wellness Initiative program at the NATA Convention (National Athletic Trainer's Association, Circle of Sisters and several other conferences.\\n\",\n",
       " \"Negotiated a contract with the NBRPA to provide education, training and pain management to the retired player's union members.\\n\",\n",
       " \"Recruited several National Basketball Association and Women National Basketball Association to become spokespeople for the company's services.\\n\",\n",
       " 'Acts as a Healthcare Management systems Consultant.\\n',\n",
       " \"Wrote government grants for fifty thousand dollars for the purpose of training for the company's technical staff.\\n\",\n",
       " 'Able to improve revenue collection significantly within the first six months of employment.\\n',\n",
       " 'Provided additional stream of income for HALDEY Pharmaceutical Compounding.\\n',\n",
       " 'Improved revenue collection from 69% to 92% in first month.\\n',\n",
       " 'Improved customer service rating by 40%.\\n',\n",
       " \"Spearheaded the redesign and planning of the build out process for the department's waiting offices and storage area.\\n\",\n",
       " 'Received a rating of 98% out of 100 in the Joint Commission certification Rounds for the department of special surgery.\\n',\n",
       " 'WORK HISTORY\\n',\n",
       " 'Charter Communications (Spectrum), Woodside, NY\\n',\n",
       " 'Direct Sales, Present\\n',\n",
       " 'â€¢ Utilization of communication skills to build relationships with prospective Spectrum Business customers.\\n',\n",
       " 'â€¢ Plan, implement, and manage individual marketing and sales plans for New York neighborhoods.\\n',\n",
       " 'â€¢ Utilize human relations and negotiation skills to market and sell home Spectrum cable, home internet, and home telephone services.\\n',\n",
       " 'â€¢ Responsible for identifying client needs while researching ways to improve the quality of their services.\\n',\n",
       " 'â€¢ Effective at finding cost saving options for new customers, often reducing their costs by as much as 50%.\\n',\n",
       " '\\n',\n",
       " 'HALDEY Pharmaceutical Compounding, Bronx, NY\\n',\n",
       " 'Human Resource Manager/Project Manager/Operations 2015-2017\\n',\n",
       " 'â€¢ Managed the day to day operations of a multimillion dollar national compounding pharmacy.\\n',\n",
       " 'â€¢ Developed a lucrative Sports Wellness Initiative by connecting the organization to current and former athletes in each of the major sports.\\n',\n",
       " \"â€¢ Spearheaded and negotiated a partnership with the (NBRPA) National Basketball Retired Player's Association to provide pain management medications for retired and current players.\\n\",\n",
       " 'Traveled extensively in support of the Sports Initiative.\\n',\n",
       " 'â€¢ Accomplished Full Cycle Human Resource objectives for the organization.\\n',\n",
       " 'â€¢ Achieved operational objectives by contributing information and recommendations to strategic plans and reviews.\\n',\n",
       " 'â€¢ Met financial objectives by forecasting requirements; prepared annual budget utilizing forecasting; scheduling expenditures; analyzing variances; initiating corrective actions.\\n',\n",
       " 'â€¢ Developed organizational mission statement, strategy and marketing materials.\\n',\n",
       " 'â€¢ Coordinated internal resources and third parties/vendors for the flawless execution of projects.\\n',\n",
       " 'â€¢ Ensured that all projects are delivered on-time, within scope and within budget.\\n',\n",
       " \"â€¢ Developed project's scope and objectives, involving all relevant stakeholders and ensuring technical feasibility.\\n\",\n",
       " 'Telecommuted while preforming the project management duties.\\n',\n",
       " '\\n',\n",
       " 'RENOVATION MEDICAL & SURGICAL SUPPLIES, New York, NY\\n',\n",
       " 'Specialty Human Resource/Sales Consultant`2014-2015\\n',\n",
       " 'Staffed organization with qualified sales force.\\n',\n",
       " 'â€¢ Marketed and sold approximately 1000 bracing products and traction supplies to medical centers in the New York market.\\n',\n",
       " 'â€¢ Developed Physicians relationships to expand territory growth; serviced and managed seven primary hospital accounts; provided on-site product expertise and consultation to orthopedic physicians while in the medical office.\\n',\n",
       " 'â€¢ Produced over $100,000 in new business under Sales Leadership.\\n',\n",
       " \"â€¢Provided patient education on complicated issues such as worker's compensation and no-fault laws.\\n\",\n",
       " 'â€¢ Quality Followed-up phone calls to patients to ensure they were using the equipment properly.\\n',\n",
       " 'Telecommuted as the central office for Renovation Medical was located in another part of the state.\\n',\n",
       " '\\n',\n",
       " 'BETH ISRAEL AT MOUNT SINAI HOSPITAL SYSTEM, New York, NY\\n',\n",
       " 'Practice Administrator of General/Vascular/Bariatric/Thoracic/Colorectal/Proctology/\\n',\n",
       " 'Pediatric/Podiatry Special Surgery (Outpatient) Department. 2010-2015\\n',\n",
       " 'â€¢ Utilized various hospital systems such as Eagle, IDX, Outlook, Oracle, ECW and MDe, for outpatient surgery coding, scheduling of appointments, surgeries, including pre and post-operative testing, authorizations, insurance verifications and pre-certification for procedures, collection of co-payments and keeping track of no shows.\\n',\n",
       " \"â€¢Implemented and monitored the Special Surgery's annual budget, including medical and office operating expenses, purchase orders, capital budget, annual bonuses and salaries.\\n\",\n",
       " 'â€¢ Worked closely with head administrators, as well as facility administrators on planning the direction of the Special Surgery Department: organized/scheduled meetings, managed extensive calendars, hospital privileges, credentialing and professional memberships.\\n',\n",
       " 'â€¢ Directed project for the designs for renovations for new Department of Special Surgery outpatient office and waiting area, including physical office setup, recruitment of front staff for project and negotiating and hiring vendors for new medical and office equipment.\\n',\n",
       " 'â€¢ Conducted annual and semi-annual performance evaluations using I-performance Evaluation System in conjunction with the Director of the Department of Special Surgery.\\n',\n",
       " 'â€¢ Ensured regulatory compliance according to Federal guidelines including, HIPAA, OSHA, the Department of Health, the Joint Commission and CMS.\\n',\n",
       " 'â€¢ Responsible for Procurement, physician reimbursements, A/P and A/R.\\n',\n",
       " 'â€¢ Approved payroll and PTO balance for all departmental employees.\\n',\n",
       " 'â€¢ Oversaw and processed all medical billing and coding.\\n',\n",
       " 'â€¢ Hired and supervised all office personnel.\\n',\n",
       " 'Preformed all HR functions for the Department of Special Surgery.\\n',\n",
       " 'Provided health advocacy for patients in need.\\n',\n",
       " 'Used HEDIS and Risk Adjustment.\\n',\n",
       " '\\n',\n",
       " 'LICENSURE, TRAINING, CERTIFICATES, AWARDS\\n',\n",
       " 'â€¢ Received the \"Caught being Great\" exceptional service award, BETH ISRAEL Hospital 2014\\n',\n",
       " 'â€¢ CPR and First Aid certification\\n',\n",
       " 'Training on all EMR and EHR systems including EClinicalworks\\n',\n",
       " \"â€¢ Diversity trained professional at Columbia Teacher's College\\n\",\n",
       " 'MS Office, Word, Excel, PowerPoint, Outlook proficient, ADP, Oracle, Bamboo HRIS\\n']"
      ]
     },
     "execution_count": 16,
     "metadata": {},
     "output_type": "execute_result"
    }
   ],
   "source": [
    "resume"
   ]
  },
  {
   "cell_type": "code",
   "execution_count": null,
   "metadata": {},
   "outputs": [],
   "source": []
  }
 ],
 "metadata": {
  "kernelspec": {
   "display_name": "Python 3",
   "language": "python",
   "name": "python3"
  },
  "language_info": {
   "codemirror_mode": {
    "name": "ipython",
    "version": 3
   },
   "file_extension": ".py",
   "mimetype": "text/x-python",
   "name": "python",
   "nbconvert_exporter": "python",
   "pygments_lexer": "ipython3",
   "version": "3.7.4"
  }
 },
 "nbformat": 4,
 "nbformat_minor": 4
}
