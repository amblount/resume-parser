{
 "cells": [
  {
   "cell_type": "markdown",
   "metadata": {},
   "source": [
    "## Task 3: Summarization and comparison of résumés + job postings\n",
    "\n",
    "\n",
    "### CoNVO\n",
    "\n",
    "**Context:** Bloc is a career services management platform that builds smart career and data management tools for job-seekers and the organizations serving them. In particular, Bloc seeks to provide and facilitate access to tools for effectively presenting job-seekers' credentials and matching employers' job postings, and thereby improve outcomes.\n",
    "\n",
    "**Need:** Career advisors are expected to provide personalized recommendations and assistance to many job-seekers at any given time. To accomplish that, they need to stay up-to-date on the current status of particular job markets, and understand how their group of advisees fit into that space.\n",
    "\n",
    "**Vision:** Automated summarization of the contents of a group of job-seekers' résumés and, separately, open job postings in a particular field(s), along with a quantitative and/or visual representation of the similarity between a set of résumés and job postings, with easy-to-understand outputs for non-technical viewers.\n",
    "\n",
    "**Outcome:** A standalone, proof-of-concept process for summarizing small- to medium-sized collections of text. A separate POC for comparing sets of résumés to sets of job postings in a quantitative and/or visual manner.\n",
    "\n",
    "\n",
    "### Data Summary\n",
    "\n",
    "A collection of ~125 (+ ~2400) résumés as text extracted from PDFs (see Task 1) as well as ~4800 job postings as JSON fetched from external APIs(see Task 2).\n",
    "\n",
    "\n",
    "### Proposed Methodology\n",
    "\n",
    "Unsupervised summarization of many texts is a common and well-studied problem; there's no need for us to reinvent the wheel. Topic modeling (e.g. LDA) is a good bet if you have enough texts and don't require fine detail. Ranking the most important words/terms by frequency or a more sophisticated metric (e.g. tf-idf, bm25) works well for smaller corpora, but doesn't necessarily reveal relationships between concepts. Graph-based methods for extract summarization of key words/terms/sentences (e.g. TextRank) could also work here.\n",
    "\n",
    "Comparing two collections of texts is potentially trickier. An explicit comparison could be made by identifying words/terms that are most important in one corpus and least important in the other (and vice-versa), while an implicit comparison could just show the top words/terms for each corpus side-by-side. Comparing topic models is generally _not_ a valid method. Visualizing the comparison is probably the most important aspect of this task; we want to make it intuitive and interpretable.\n",
    "\n",
    "\n",
    "### Definitions of Success\n",
    "\n",
    "This entire task is icing on the cake. Any concrete outputs will be considered a success!\n",
    "\n",
    "\n",
    "### Risks\n",
    "\n",
    "We may not have enough texts for some unsupervised methods (namely, topic modeling and any deep learning methods)."
   ]
  },
  {
   "cell_type": "markdown",
   "metadata": {},
   "source": [
    "## Source Code"
   ]
  },
  {
   "cell_type": "code",
   "execution_count": 1,
   "metadata": {},
   "outputs": [],
   "source": [
    "%load_ext watermark"
   ]
  },
  {
   "cell_type": "markdown",
   "metadata": {},
   "source": [
    "### Getting Started"
   ]
  },
  {
   "cell_type": "code",
   "execution_count": 2,
   "metadata": {},
   "outputs": [],
   "source": [
    "import msvdd_bloc"
   ]
  },
  {
   "cell_type": "code",
   "execution_count": 3,
   "metadata": {},
   "outputs": [
    {
     "name": "stdout",
     "output_type": "stream",
     "text": [
      "CPython 3.7.4\n",
      "IPython 7.8.0\n"
     ]
    }
   ],
   "source": [
    "%watermark -v -iv"
   ]
  },
  {
   "cell_type": "code",
   "execution_count": 4,
   "metadata": {},
   "outputs": [
    {
     "name": "stdout",
     "output_type": "stream",
     "text": [
      "Candice Williams\n",
      "6141 Payne Mountains Suite 436 New Victoriashire, NC 51439   |   001-021-517-1134x560   |   kbarker@gmail.com\n",
      "\n",
      "EXPERIENCE \n",
      "Intuit, ​Software Engineer Intern \n",
      "Mountain View, CA           May 2018 – Present \n",
      "\n",
      "● Backend engineer speeding login times for Intuit Online Payroll customers using Java\n",
      "● Testing comprehensive user interfaces on the frontend using automation technologies such as Selenium\n",
      "\n",
      "and ReactJS based frameworks\n",
      "U.S. Bank, ​Software Engineer Intern \n",
      "St. Paul, MN    May 2017 – August 2017 \n",
      "\n",
      "● Worked with the software automation team using dynamic technologies such as .NET framework, C#, Visual\n",
      "Studio, and Angular 2 Javascript Framework to develop automated software used by U.S. Bank engineers\n",
      "\n",
      "● Created and maintained automation tools used to eliminate manual tasks otherwise performed by individuals\n",
      "● Created comprehensive unit test plans and test cases in Selenium and javascript frameworks\n",
      "● Worked on user testing, project management, error handling, and bac ...\n"
     ]
    }
   ],
   "source": [
    "resumes_fpath = \"/Users/burtondewilde/Desktop/datakind/bloc/msvdd_Bloc/data/resumes/fellows_resumes.zip\"\n",
    "for fname, text in msvdd_bloc.data.fileio.load_text_files_from_zip(resumes_fpath):\n",
    "    # you may want to use the same preprocessing as in task 1\n",
    "    # but maybe not ;)\n",
    "    # text = preprocess_resume_text(text)\n",
    "    break  # just stopping here so we can test things out\n",
    "print(text[:1000], \"...\")"
   ]
  },
  {
   "cell_type": "code",
   "execution_count": 5,
   "metadata": {},
   "outputs": [
    {
     "name": "stdout",
     "output_type": "stream",
     "text": [
      "# postings = 67\n"
     ]
    },
    {
     "data": {
      "text/plain": [
       "[{'id': '3e378b91-7cc0-486e-b18d-518ab29569e3',\n",
       "  'type': 'Full Time',\n",
       "  'url': 'https://jobs.github.com/positions/3e378b91-7cc0-486e-b18d-518ab29569e3',\n",
       "  'created_at': 'Wed Sep 11 18:59:59 UTC 2019',\n",
       "  'company': 'Simon & Schuster ',\n",
       "  'company_url': 'https://www.simonandschuster.com/',\n",
       "  'location': 'New York, NY',\n",
       "  'title': 'Lead Software Engineer',\n",
       "  'description': '<p>Simon &amp; Schuster is seeking a Lead Software Engineer to join a rapidly growing team focused on impacting the world of publishing through research and innovation. Working with a team of data scientists, data engineers, designers, and domain experts, you will be involved in rapidly prototyping, developing, and deploying the platforms that put insights and information into the hands of decision-makers.</p>\\n<p>From databases to serverless applications, you will be designing, deploying , and managing the systems that connect our real-world data to the books and authors that inform and entertain our world. As a Full Stack (Engineer|Developer) you will engage with engineers and domain experts across the organization, collaborating to design and deploy innovative new products and services. From inception to production, you will onboard, integrate and deploy an array of cutting-edge tools and technologies to seamlessly deliver our solutions.</p>\\n<p>Publishing experience is not required. Instead we are seeking teammates with curiosity, problem-solving skills, and a thirst for knowledge.</p>\\n<p>Responsibilities:</p>\\n<p>●     Scale team success from prototype to production.\\n●     Own the software engineering aspects of our data services and applications.\\n●     Design, build, test, and deploy solutions serving the entire organization.\\n●     Be the “go to” engineer for our products and services.\\n●     Tailor and drive the creation and adoption of best practices for software engineering for our team and peer engineering teams across the organization.\\n●     Work with users, designers, developers, and analysts to ensure requirements-driven engineering in all we do.\\n●     Ensure high availability and security are maintained in the products and services delivered by our team.</p>\\n<p>Qualifications:\\n●     5+ years experience in web application development and managing deployments\\n●      Experience with full-stack development: Front-end, web servers, databases and storage.\\n●      Deep understanding of modern software development practices (CI/CD, Continuous Monitoring, Testing, Documentation)\\n●     Experience in production commercial with architecting and managing cloud deployments (GCP, AWS, Azure, etc.)\\n●     Proficiency with Linux, SQL, Python, and Javascript required\\n●     Solid background working with large-scale and fast-moving data technologies (Streaming, NoSQL, Object-stores, etc.)\\n●     Familiarity with common build systems, Github/Gitlab, Confluence, JIRA\\n●     Ability to work effectively in teams of technical and non-technical people.\\n●     Ability to work independently and effectively\\n●     Desire to research and communicate requirements and solutions.</p>\\n',\n",
       "  'how_to_apply': '<p>Apply Online: <a href=\"https://cbs.avature.net/cbssscareers/JobDetail/Lead-Software-Engineer/14487\">https://cbs.avature.net/cbssscareers/JobDetail/Lead-Software-Engineer/14487</a></p>\\n',\n",
       "  'company_logo': 'https://jobs.github.com/rails/active_storage/blobs/eyJfcmFpbHMiOnsibWVzc2FnZSI6IkJBaHBBdDF4IiwiZXhwIjpudWxsLCJwdXIiOiJibG9iX2lkIn19--acf24dd4bdd4f94a7d7a2dfc717ef5415bad86ce/43811-1.jpg'}]"
      ]
     },
     "execution_count": 5,
     "metadata": {},
     "output_type": "execute_result"
    }
   ],
   "source": [
    "postings_fpath = \"/Users/burtondewilde/Desktop/datakind/bloc/msvdd_Bloc/data/postings/github_jobs.json\"\n",
    "postings = msvdd_bloc.data.fileio.load_json(postings_fpath)\n",
    "print(\"# postings =\", len(postings))\n",
    "postings[:1]"
   ]
  },
  {
   "cell_type": "code",
   "execution_count": null,
   "metadata": {},
   "outputs": [],
   "source": []
  }
 ],
 "metadata": {
  "kernelspec": {
   "display_name": "Python 3",
   "language": "python",
   "name": "python3"
  },
  "language_info": {
   "codemirror_mode": {
    "name": "ipython",
    "version": 3
   },
   "file_extension": ".py",
   "mimetype": "text/x-python",
   "name": "python",
   "nbconvert_exporter": "python",
   "pygments_lexer": "ipython3",
   "version": "3.7.4"
  }
 },
 "nbformat": 4,
 "nbformat_minor": 4
}
